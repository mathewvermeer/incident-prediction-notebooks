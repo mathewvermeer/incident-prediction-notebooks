{
 "cells": [
  {
   "cell_type": "code",
   "execution_count": 1,
   "id": "f99be61e",
   "metadata": {},
   "outputs": [
    {
     "name": "stdout",
     "output_type": "stream",
     "text": [
      "INFO: Pandarallel will run on 60 workers.\n",
      "INFO: Pandarallel will use Memory file system to transfer data between the main process and workers.\n",
      "CPU times: user 323 ms, sys: 63.8 ms, total: 386 ms\n",
      "Wall time: 389 ms\n"
     ]
    }
   ],
   "source": [
    "%%time\n",
    "import numpy as np\n",
    "import ast\n",
    "from datetime import datetime\n",
    "import glob\n",
    "import ipaddress\n",
    "import os\n",
    "import pandas as pd\n",
    "from pandarallel import pandarallel\n",
    "from joblib import Parallel, delayed\n",
    "from local_utils import *\n",
    "import sys\n",
    "import logging\n",
    "\n",
    "so = open('cbl.log', 'w', 10)\n",
    "sys.stdout.echo = so\n",
    "sys.stderr.echo = so\n",
    "\n",
    "get_ipython().log.handlers[0].stream = so\n",
    "get_ipython().log.setLevel(logging.INFO)\n",
    "\n",
    "pandarallel.initialize(progress_bar=True)"
   ]
  },
  {
   "cell_type": "code",
   "execution_count": 2,
   "id": "8552583a",
   "metadata": {},
   "outputs": [],
   "source": [
    "spamhaus_dir = '/data/data-ec/data/data.spamhaus/'\n",
    "org_ranges_file = 'csv/all_ranges_over_time_gaps_filled.csv'\n",
    "exploded_ranges_file = 'csv/all_ranges_exploded.csv'"
   ]
  },
  {
   "cell_type": "code",
   "execution_count": 3,
   "id": "ec48e83d",
   "metadata": {},
   "outputs": [],
   "source": [
    "# %%time\n",
    "# def process_cols(row):\n",
    "#     row['ripe_names'] = ast.literal_eval(row['ripe_names'])\n",
    "#     row['Ranges'] = ast.literal_eval(row['Ranges'])\n",
    "#     return row\n",
    "\n",
    "# df = pd.read_csv(org_ranges_file)\n",
    "# df = df.parallel_apply(process_cols, axis=1)\n",
    "# df"
   ]
  },
  {
   "cell_type": "code",
   "execution_count": 4,
   "id": "79feb184",
   "metadata": {},
   "outputs": [],
   "source": [
    "%%time\n",
    "\n",
    "# exploded = df.copy()\n",
    "# del exploded['ripe_ranges']\n",
    "\n",
    "exploded = pd.read_csv(exploded_ranges_file)\n",
    "\n",
    "cols = list(exploded.columns.values)\n",
    "cols.remove('Ranges')\n",
    "cols.remove('ripe_names')\n",
    "\n",
    "# exploded = exploded.set_index(cols).apply(pd.Series.explode).reset_index()\n",
    "exploded"
   ]
  },
  {
   "cell_type": "code",
   "execution_count": 5,
   "id": "3bb08ee8",
   "metadata": {},
   "outputs": [],
   "source": [
    "def get_file_location_dict(name):\n",
    "    if 'cbl' in name:\n",
    "        name = 'cbl.diagnostics'\n",
    "    files = glob.glob(f'{spamhaus_dir}/{name}*')\n",
    "    file_location_dict = { '-'.join(file[-10:].split('_')[::-1]): file for file in files }\n",
    "    files = [ x for x in glob.glob(f'{spamhaus_dir}/*/{name}') if 'sample' not in x ]\n",
    "    files = { file[33:43]: file for file in files }\n",
    "    file_location_dict.update(files)\n",
    "    return file_location_dict"
   ]
  },
  {
   "cell_type": "code",
   "execution_count": 6,
   "id": "b03f5e4e",
   "metadata": {},
   "outputs": [],
   "source": [
    "def get_ip_set_xbl(filepath):\n",
    "    with open(filepath, 'r') as f:\n",
    "        ip_set = set( [ line.strip() for line in f.readlines() if line[0] not in ['#', ':'] ] )\n",
    "    return ip_set\n",
    "\n",
    "def get_ip_range_set_pbl(filepath):\n",
    "    ranges = []\n",
    "    exceptions = []\n",
    "    with open(filepath, 'r') as f:\n",
    "        for line in f.readlines():\n",
    "            line = line.strip()\n",
    "            if line.startswith('#') or line.startswith(':') or line.startswith('!'):\n",
    "                continue\n",
    "#             if line.startswith('!'):\n",
    "#                 exceptions.append(ipaddress.IPv4Address(line[1:]))\n",
    "            else:\n",
    "                line = line.strip()[0:-4]\n",
    "                ranges.append(line)\n",
    "#                 ranges.append(ipaddress.IPv4Network(line))\n",
    "                    \n",
    "    ip_set = set(ranges)\n",
    "    return ip_set\n",
    "\n",
    "def get_ip_set_cbl(filepath):\n",
    "    ips = []\n",
    "    with open(filepath, 'r', errors='replace') as f:\n",
    "        for line in f.readlines():\n",
    "            line = line.strip()\n",
    "            if line.startswith('#'):\n",
    "                continue\n",
    "            else:\n",
    "                first_comma_idx = line.index(',')\n",
    "                ip = line.strip()[0:first_comma_idx]\n",
    "                ips.append(ip)\n",
    "                    \n",
    "    ip_set = set(ips)\n",
    "    return ip_set\n",
    "\n",
    "def get_ip_set(filepath):\n",
    "    if 'pbl' in filepath:\n",
    "        return get_ip_range_set_pbl(filepath)\n",
    "    \n",
    "    if 'xbl' in filepath:\n",
    "        return get_ip_set_xbl(filepath)\n",
    "    \n",
    "    if 'cbl' in filepath:\n",
    "        return get_ip_set_cbl(filepath)\n"
   ]
  },
  {
   "cell_type": "code",
   "execution_count": 7,
   "id": "45fa6d50",
   "metadata": {},
   "outputs": [],
   "source": [
    "def extract_features_group_cbl(group, file_location_dict):\n",
    "    date = group['date'].iloc[0]\n",
    "    \n",
    "    if date not in file_location_dict:\n",
    "        group['cbl_ips'] = pd.Series([ [] for x in group.index ], index=group.index, name='cbl_ips')\n",
    "        group['cbl_count'] = pd.Series(pd.array([np.nan for x in group.index], dtype=\"Int64\"),\n",
    "                                       index=group.index, name='cbl_count')\n",
    "        return group\n",
    "    \n",
    "    filepath = file_location_dict.get(date)\n",
    "    ip_set = get_ip_set(filepath)\n",
    "    \n",
    "    result = group.apply(extract_features_cbl, args=(ip_set,), axis=1)\n",
    "    return result\n",
    "    \n",
    "def extract_features_cbl(row, ip_set):\n",
    "    #get single IP range from Ranges column, get all IPs in this range\n",
    "    r = row['Ranges']\n",
    "    ips = set([ ip.compressed for ip in ipaddress.IPv4Network(r) ])\n",
    "    #find union between range and 'malicious' IPs, this is the number of malicious IPs on this date\n",
    "    union = ips & ip_set\n",
    "    num_malicious = len(union)\n",
    "    row['cbl_count'] = num_malicious\n",
    "    row['cbl_ips'] = list(union)\n",
    "    return row"
   ]
  },
  {
   "cell_type": "code",
   "execution_count": 8,
   "id": "29e60300",
   "metadata": {},
   "outputs": [
    {
     "name": "stdout",
     "output_type": "stream",
     "text": [
      "got locations\n"
     ]
    },
    {
     "name": "stderr",
     "output_type": "stream",
     "text": [
      "[Parallel(n_jobs=20)]: Using backend MultiprocessingBackend with 20 concurrent workers.\n",
      "[Parallel(n_jobs=20)]: Done  10 tasks      | elapsed:    4.0s\n",
      "[Parallel(n_jobs=20)]: Done 280 tasks      | elapsed:    5.1s\n",
      "[Parallel(n_jobs=20)]: Done 780 tasks      | elapsed:    7.9s\n",
      "[Parallel(n_jobs=20)]: Done 1200 tasks      | elapsed:   20.0s\n",
      "[Parallel(n_jobs=20)]: Done 1650 tasks      | elapsed:   32.4s\n",
      "[Parallel(n_jobs=20)]: Done 2320 tasks      | elapsed:   46.6s\n",
      "[Parallel(n_jobs=20)]: Done 3590 tasks      | elapsed: 137.6min\n",
      "[Parallel(n_jobs=20)]: Done 4379 tasks      | elapsed: 238.6min\n",
      "[Parallel(n_jobs=20)]: Done 4551 out of 4551 | elapsed: 240.1min finished\n"
     ]
    }
   ],
   "source": [
    "file_location_dict = get_file_location_dict('cbl')\n",
    "print('got locations')\n",
    "cbl_features = Parallel(n_jobs=20, verbose=1, backend='multiprocessing')(\n",
    "    delayed(extract_features_group_cbl)(group, file_location_dict) \n",
    "    for i, (name, group) in enumerate(exploded.groupby('date'))\n",
    ")\n",
    "cbl_features = pd.concat(cbl_features)\n"
   ]
  },
  {
   "cell_type": "code",
   "execution_count": 9,
   "id": "12bc2cbb",
   "metadata": {},
   "outputs": [],
   "source": [
    "cbl_features[(~cbl_features['cbl_count'].isna()) & (cbl_features['cbl_count'] > 0)]"
   ]
  },
  {
   "cell_type": "code",
   "execution_count": 10,
   "id": "a6ce5128",
   "metadata": {},
   "outputs": [],
   "source": [
    "cbl_features['Ranges'] = cbl_features['Ranges'].apply(ipaddress.IPv4Network)\n",
    "cbl_features = cbl_features.sort_values(['date', 'customer', 'Ranges'])\n",
    "cbl_features['Ranges'] = cbl_features['Ranges'].apply(str)\n",
    "\n",
    "def aggregate_to_list(group):\n",
    "    return group.tolist() # or whatever other aggregation you want\n",
    "\n",
    "# columns specified in .agg() should NOT include the groupby columns\n",
    "imploded = cbl_features.groupby(cols).agg({'Ranges': aggregate_to_list,\n",
    "                                           'ripe_names': aggregate_to_list,\n",
    "                                           'cbl_ips': aggregate_to_list,\n",
    "                                           'cbl_count': aggregate_to_list}).reset_index()\n",
    "\n",
    "imploded"
   ]
  },
  {
   "cell_type": "code",
   "execution_count": 11,
   "id": "8f1b497a",
   "metadata": {},
   "outputs": [],
   "source": [
    "imploded.to_csv('csv/features/cbl_features.csv', index=False)"
   ]
  },
  {
   "cell_type": "code",
   "execution_count": 12,
   "id": "72f1be6d",
   "metadata": {},
   "outputs": [
    {
     "name": "stdout",
     "output_type": "stream",
     "text": [
      "done\n"
     ]
    }
   ],
   "source": [
    "print('done')"
   ]
  }
 ],
 "metadata": {
  "kernelspec": {
   "display_name": "Python 3 (ipykernel)",
   "language": "python",
   "name": "python3"
  },
  "language_info": {
   "codemirror_mode": {
    "name": "ipython",
    "version": 3
   },
   "file_extension": ".py",
   "mimetype": "text/x-python",
   "name": "python",
   "nbconvert_exporter": "python",
   "pygments_lexer": "ipython3",
   "version": "3.7.7"
  }
 },
 "nbformat": 4,
 "nbformat_minor": 5
}
