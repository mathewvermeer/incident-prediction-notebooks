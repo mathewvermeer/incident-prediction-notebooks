{
 "cells": [
  {
   "cell_type": "code",
   "execution_count": 23,
   "id": "13876d9c",
   "metadata": {},
   "outputs": [
    {
     "name": "stdout",
     "output_type": "stream",
     "text": [
      "INFO: Pandarallel will run on 60 workers.\n",
      "INFO: Pandarallel will use Memory file system to transfer data between the main process and workers.\n"
     ]
    }
   ],
   "source": [
    "import numpy as np\n",
    "from datetime import datetime, timedelta\n",
    "import ipaddress\n",
    "import os\n",
    "import json\n",
    "import pandas as pd\n",
    "from pandarallel import pandarallel\n",
    "from joblib import Parallel, delayed\n",
    "import bgpkit\n",
    "import sys\n",
    "import logging\n",
    "\n",
    "pandarallel.initialize(progress_bar=True)\n",
    "\n",
    "so = open('bgp.log', 'w', 10)\n",
    "sys.stdout.echo = so\n",
    "sys.stderr.echo = so\n",
    "\n",
    "get_ipython().log.handlers[0].stream = so\n",
    "get_ipython().log.setLevel(logging.INFO)\n"
   ]
  },
  {
   "cell_type": "code",
   "execution_count": 2,
   "id": "ae78cdc0",
   "metadata": {},
   "outputs": [],
   "source": [
    "exploded_csv_path = '/home/mathew/incpred/csv/all_ranges_exploded.csv'\n",
    "output_path = '/home/mathew/incpred/csv/features/bgp_misconfig_features.csv'"
   ]
  },
  {
   "cell_type": "code",
   "execution_count": 3,
   "id": "aebb4096",
   "metadata": {},
   "outputs": [
    {
     "name": "stdout",
     "output_type": "stream",
     "text": [
      "CPU times: user 1min 56s, sys: 7.83 s, total: 2min 3s\n",
      "Wall time: 2min 3s\n"
     ]
    }
   ],
   "source": [
    "%%time\n",
    "df = pd.read_csv(exploded_csv_path, usecols=['date', 'org', 'Ranges'])\n",
    "df['Ranges'] = df['Ranges'].apply(ipaddress.IPv4Network)"
   ]
  },
  {
   "cell_type": "code",
   "execution_count": 4,
   "id": "80472bba",
   "metadata": {},
   "outputs": [],
   "source": [
    "def datetime_range(start, end, delta):\n",
    "    current = start\n",
    "    while current < end:\n",
    "        yield current\n",
    "        current += delta\n",
    "\n",
    "start = datetime.strptime('2015-01-01', '%Y-%m-%d')\n",
    "end = datetime.strptime('2022-01-02', '%Y-%m-%d')\n",
    "date_list = [start + timedelta(days=x) for x in range(0, (end-start).days)]"
   ]
  },
  {
   "cell_type": "code",
   "execution_count": null,
   "id": "84e25f57",
   "metadata": {
    "scrolled": true
   },
   "outputs": [
    {
     "name": "stdout",
     "output_type": "stream",
     "text": [
      "2015-01-05T03:00:00\n"
     ]
    },
    {
     "name": "stderr",
     "output_type": "stream",
     "text": [
      "[Parallel(n_jobs=24)]: Using backend MultiprocessingBackend with 24 concurrent workers.\n",
      "[Parallel(n_jobs=24)]: Done   2 out of  24 | elapsed:    0.4s remaining:    4.0s\n",
      "[Parallel(n_jobs=24)]: Done  24 out of  24 | elapsed:    2.2s finished\n"
     ]
    },
    {
     "name": "stdout",
     "output_type": "stream",
     "text": [
      "number of announcements: 331665\n",
      "2015-01-05T03:15:00\n"
     ]
    },
    {
     "name": "stderr",
     "output_type": "stream",
     "text": [
      "[Parallel(n_jobs=24)]: Using backend MultiprocessingBackend with 24 concurrent workers.\n",
      "[Parallel(n_jobs=24)]: Done   2 out of  24 | elapsed:    0.4s remaining:    4.2s\n",
      "[Parallel(n_jobs=24)]: Done  24 out of  24 | elapsed:    2.0s finished\n"
     ]
    },
    {
     "name": "stdout",
     "output_type": "stream",
     "text": [
      "number of announcements: 272740\n",
      "all announce count: 331665\n",
      "all announce count after old removal: 331665\n",
      "announces in common: 216431\n",
      "all announce count after adding new announce: 387974\n",
      "total withdrawn routes: 2781\n",
      "number tracked routes withdrawn: 0\n",
      "no misconfigs, continuing.\n",
      "2015-01-05T03:30:00\n"
     ]
    },
    {
     "name": "stderr",
     "output_type": "stream",
     "text": [
      "[Parallel(n_jobs=24)]: Using backend MultiprocessingBackend with 24 concurrent workers.\n",
      "[Parallel(n_jobs=24)]: Done   2 out of  24 | elapsed:    0.4s remaining:    4.2s\n",
      "[Parallel(n_jobs=24)]: Done  24 out of  24 | elapsed:    4.1s finished\n"
     ]
    },
    {
     "name": "stdout",
     "output_type": "stream",
     "text": [
      "number of announcements: 717054\n",
      "all announce count: 387974\n",
      "all announce count after old removal: 387974\n",
      "announces in common: 205994\n",
      "all announce count after adding new announce: 899034\n",
      "total withdrawn routes: 22327\n",
      "number tracked routes withdrawn: 0\n",
      "no misconfigs, continuing.\n",
      "2015-01-05T03:45:00\n"
     ]
    },
    {
     "name": "stderr",
     "output_type": "stream",
     "text": [
      "[Parallel(n_jobs=24)]: Using backend MultiprocessingBackend with 24 concurrent workers.\n",
      "[Parallel(n_jobs=24)]: Done   2 out of  24 | elapsed:    0.4s remaining:    3.9s\n",
      "[Parallel(n_jobs=24)]: Done  24 out of  24 | elapsed:    4.2s finished\n"
     ]
    },
    {
     "name": "stdout",
     "output_type": "stream",
     "text": [
      "number of announcements: 898024\n",
      "all announce count: 899034\n",
      "all announce count after old removal: 899034\n",
      "announces in common: 671259\n",
      "all announce count after adding new announce: 1125799\n",
      "total withdrawn routes: 28289\n",
      "number tracked routes withdrawn: 0\n",
      "no misconfigs, continuing.\n",
      "2015-01-05T04:00:00\n"
     ]
    },
    {
     "name": "stderr",
     "output_type": "stream",
     "text": [
      "[Parallel(n_jobs=24)]: Using backend MultiprocessingBackend with 24 concurrent workers.\n",
      "[Parallel(n_jobs=24)]: Done   2 out of  24 | elapsed:    0.4s remaining:    4.0s\n",
      "[Parallel(n_jobs=24)]: Done  24 out of  24 | elapsed:    3.1s finished\n"
     ]
    },
    {
     "name": "stdout",
     "output_type": "stream",
     "text": [
      "number of announcements: 620371\n",
      "all announce count: 1125799\n",
      "all announce count after old removal: 1125799\n",
      "announces in common: 483629\n",
      "all announce count after adding new announce: 1262541\n",
      "total withdrawn routes: 12324\n",
      "number tracked routes withdrawn: 0\n",
      "no misconfigs, continuing.\n",
      "2015-01-05T04:15:00\n"
     ]
    },
    {
     "name": "stderr",
     "output_type": "stream",
     "text": [
      "[Parallel(n_jobs=24)]: Using backend MultiprocessingBackend with 24 concurrent workers.\n",
      "[Parallel(n_jobs=24)]: Done   2 out of  24 | elapsed:    0.4s remaining:    4.1s\n",
      "[Parallel(n_jobs=24)]: Done  24 out of  24 | elapsed:    4.3s finished\n"
     ]
    },
    {
     "name": "stdout",
     "output_type": "stream",
     "text": [
      "number of announcements: 825778\n",
      "all announce count: 1262541\n",
      "all announce count after old removal: 1262541\n",
      "announces in common: 536395\n",
      "all announce count after adding new announce: 1551924\n",
      "total withdrawn routes: 21432\n",
      "number tracked routes withdrawn: 0\n",
      "no misconfigs, continuing.\n",
      "2015-01-05T04:30:00\n"
     ]
    },
    {
     "name": "stderr",
     "output_type": "stream",
     "text": [
      "[Parallel(n_jobs=24)]: Using backend MultiprocessingBackend with 24 concurrent workers.\n",
      "[Parallel(n_jobs=24)]: Done   2 out of  24 | elapsed:    0.4s remaining:    4.0s\n",
      "[Parallel(n_jobs=24)]: Done  24 out of  24 | elapsed:    4.1s finished\n"
     ]
    },
    {
     "name": "stdout",
     "output_type": "stream",
     "text": [
      "number of announcements: 756105\n",
      "all announce count: 1551924\n",
      "all announce count after old removal: 1551924\n",
      "announces in common: 675795\n",
      "all announce count after adding new announce: 1632234\n",
      "total withdrawn routes: 20573\n",
      "number tracked routes withdrawn: 0\n",
      "no misconfigs, continuing.\n",
      "2015-01-05T04:45:00\n"
     ]
    },
    {
     "name": "stderr",
     "output_type": "stream",
     "text": [
      "[Parallel(n_jobs=24)]: Using backend MultiprocessingBackend with 24 concurrent workers.\n",
      "[Parallel(n_jobs=24)]: Done   2 out of  24 | elapsed:    0.4s remaining:    4.0s\n",
      "[Parallel(n_jobs=24)]: Done  24 out of  24 | elapsed:    2.0s finished\n"
     ]
    },
    {
     "name": "stdout",
     "output_type": "stream",
     "text": [
      "number of announcements: 226537\n",
      "all announce count: 1632234\n",
      "all announce count after old removal: 1632234\n",
      "announces in common: 166771\n",
      "all announce count after adding new announce: 1692000\n",
      "total withdrawn routes: 17138\n",
      "number tracked routes withdrawn: 0\n",
      "no misconfigs, continuing.\n",
      "2015-01-05T05:00:00\n"
     ]
    },
    {
     "name": "stderr",
     "output_type": "stream",
     "text": [
      "[Parallel(n_jobs=24)]: Using backend MultiprocessingBackend with 24 concurrent workers.\n",
      "[Parallel(n_jobs=24)]: Done   2 out of  24 | elapsed:    0.4s remaining:    4.1s\n",
      "[Parallel(n_jobs=24)]: Done  24 out of  24 | elapsed:    1.8s finished\n"
     ]
    },
    {
     "name": "stdout",
     "output_type": "stream",
     "text": [
      "number of announcements: 204404\n",
      "all announce count: 1692000\n",
      "all announce count after old removal: 1692000\n",
      "announces in common: 137347\n",
      "all announce count after adding new announce: 1759057\n",
      "total withdrawn routes: 16305\n",
      "number tracked routes withdrawn: 0\n",
      "no misconfigs, continuing.\n",
      "2015-01-05T05:15:00\n"
     ]
    },
    {
     "name": "stderr",
     "output_type": "stream",
     "text": [
      "[Parallel(n_jobs=24)]: Using backend MultiprocessingBackend with 24 concurrent workers.\n",
      "[Parallel(n_jobs=24)]: Done   2 out of  24 | elapsed:    0.4s remaining:    4.0s\n",
      "[Parallel(n_jobs=24)]: Done  24 out of  24 | elapsed:    1.9s finished\n"
     ]
    },
    {
     "name": "stdout",
     "output_type": "stream",
     "text": [
      "number of announcements: 241854\n",
      "all announce count: 1759057\n",
      "all announce count after old removal: 1759057\n",
      "announces in common: 157803\n",
      "all announce count after adding new announce: 1843108\n",
      "total withdrawn routes: 1771\n",
      "number tracked routes withdrawn: 0\n",
      "no misconfigs, continuing.\n",
      "2015-01-05T05:30:00\n"
     ]
    },
    {
     "name": "stderr",
     "output_type": "stream",
     "text": [
      "[Parallel(n_jobs=24)]: Using backend MultiprocessingBackend with 24 concurrent workers.\n",
      "[Parallel(n_jobs=24)]: Done   2 out of  24 | elapsed:    0.7s remaining:    8.2s\n",
      "[Parallel(n_jobs=24)]: Done  24 out of  24 | elapsed:    2.9s finished\n"
     ]
    },
    {
     "name": "stdout",
     "output_type": "stream",
     "text": [
      "number of announcements: 290059\n",
      "all announce count: 1843108\n",
      "all announce count after old removal: 1843108\n",
      "announces in common: 196391\n",
      "all announce count after adding new announce: 1936776\n",
      "total withdrawn routes: 1774\n",
      "number tracked routes withdrawn: 0\n",
      "no misconfigs, continuing.\n",
      "2015-01-05T05:45:00\n"
     ]
    },
    {
     "name": "stderr",
     "output_type": "stream",
     "text": [
      "[Parallel(n_jobs=24)]: Using backend MultiprocessingBackend with 24 concurrent workers.\n",
      "[Parallel(n_jobs=24)]: Done   2 out of  24 | elapsed:    0.4s remaining:    3.9s\n",
      "[Parallel(n_jobs=24)]: Done  24 out of  24 | elapsed:    2.2s finished\n"
     ]
    },
    {
     "name": "stdout",
     "output_type": "stream",
     "text": [
      "number of announcements: 258105\n",
      "all announce count: 1936776\n",
      "all announce count after old removal: 1936776\n",
      "announces in common: 206653\n",
      "all announce count after adding new announce: 1988228\n",
      "total withdrawn routes: 2353\n",
      "number tracked routes withdrawn: 0\n",
      "no misconfigs, continuing.\n",
      "2015-01-05T06:00:00\n"
     ]
    },
    {
     "name": "stderr",
     "output_type": "stream",
     "text": [
      "[Parallel(n_jobs=24)]: Using backend MultiprocessingBackend with 24 concurrent workers.\n",
      "[Parallel(n_jobs=24)]: Done   2 out of  24 | elapsed:    0.4s remaining:    4.0s\n",
      "[Parallel(n_jobs=24)]: Done  24 out of  24 | elapsed:    2.2s finished\n"
     ]
    },
    {
     "name": "stdout",
     "output_type": "stream",
     "text": [
      "number of announcements: 313392\n",
      "all announce count: 1988228\n",
      "all announce count after old removal: 1988228\n",
      "announces in common: 203362\n",
      "all announce count after adding new announce: 2098258\n",
      "total withdrawn routes: 3319\n",
      "number tracked routes withdrawn: 0\n",
      "no misconfigs, continuing.\n",
      "2015-01-05T06:15:00\n"
     ]
    },
    {
     "name": "stderr",
     "output_type": "stream",
     "text": [
      "[Parallel(n_jobs=24)]: Using backend MultiprocessingBackend with 24 concurrent workers.\n",
      "[Parallel(n_jobs=24)]: Done   2 out of  24 | elapsed:    0.4s remaining:    4.0s\n",
      "[Parallel(n_jobs=24)]: Done  24 out of  24 | elapsed:    2.5s finished\n"
     ]
    },
    {
     "name": "stdout",
     "output_type": "stream",
     "text": [
      "number of announcements: 423079\n",
      "all announce count: 2098258\n",
      "all announce count after old removal: 2098258\n",
      "announces in common: 251324\n",
      "all announce count after adding new announce: 2270013\n",
      "total withdrawn routes: 3221\n",
      "number tracked routes withdrawn: 0\n",
      "no misconfigs, continuing.\n",
      "2015-01-05T06:30:00\n"
     ]
    },
    {
     "name": "stderr",
     "output_type": "stream",
     "text": [
      "[Parallel(n_jobs=24)]: Using backend MultiprocessingBackend with 24 concurrent workers.\n",
      "[Parallel(n_jobs=24)]: Done   2 out of  24 | elapsed:    0.4s remaining:    4.1s\n",
      "[Parallel(n_jobs=24)]: Done  24 out of  24 | elapsed:    2.6s finished\n"
     ]
    },
    {
     "name": "stdout",
     "output_type": "stream",
     "text": [
      "number of announcements: 398808\n",
      "all announce count: 2270013\n",
      "all announce count after old removal: 2270013\n",
      "announces in common: 309471\n",
      "all announce count after adding new announce: 2359350\n",
      "total withdrawn routes: 4234\n",
      "number tracked routes withdrawn: 0\n",
      "no misconfigs, continuing.\n",
      "2015-01-05T06:45:00\n"
     ]
    },
    {
     "name": "stderr",
     "output_type": "stream",
     "text": [
      "[Parallel(n_jobs=24)]: Using backend MultiprocessingBackend with 24 concurrent workers.\n",
      "[Parallel(n_jobs=24)]: Done   2 out of  24 | elapsed:    0.4s remaining:    4.0s\n",
      "[Parallel(n_jobs=24)]: Done  24 out of  24 | elapsed:    2.2s finished\n"
     ]
    },
    {
     "name": "stdout",
     "output_type": "stream",
     "text": [
      "number of announcements: 296259\n",
      "all announce count: 2359350\n",
      "all announce count after old removal: 2359350\n",
      "announces in common: 231639\n",
      "all announce count after adding new announce: 2423970\n",
      "total withdrawn routes: 4013\n",
      "number tracked routes withdrawn: 0\n",
      "no misconfigs, continuing.\n",
      "2015-01-05T07:00:00\n"
     ]
    },
    {
     "name": "stderr",
     "output_type": "stream",
     "text": [
      "[Parallel(n_jobs=24)]: Using backend MultiprocessingBackend with 24 concurrent workers.\n",
      "[Parallel(n_jobs=24)]: Done   2 out of  24 | elapsed:    0.4s remaining:    4.0s\n",
      "[Parallel(n_jobs=24)]: Done  24 out of  24 | elapsed:    2.1s finished\n"
     ]
    },
    {
     "name": "stdout",
     "output_type": "stream",
     "text": [
      "number of announcements: 307590\n",
      "all announce count: 2423970\n",
      "all announce count after old removal: 2423970\n",
      "announces in common: 213541\n",
      "all announce count after adding new announce: 2518019\n",
      "total withdrawn routes: 3610\n",
      "number tracked routes withdrawn: 0\n",
      "no misconfigs, continuing.\n",
      "2015-01-05T07:15:00\n"
     ]
    },
    {
     "name": "stderr",
     "output_type": "stream",
     "text": [
      "[Parallel(n_jobs=24)]: Using backend MultiprocessingBackend with 24 concurrent workers.\n",
      "[Parallel(n_jobs=24)]: Done   2 out of  24 | elapsed:    0.4s remaining:    4.1s\n",
      "[Parallel(n_jobs=24)]: Done  24 out of  24 | elapsed:    2.7s finished\n"
     ]
    },
    {
     "name": "stdout",
     "output_type": "stream",
     "text": [
      "number of announcements: 339974\n",
      "all announce count: 2518019\n",
      "all announce count after old removal: 2518019\n",
      "announces in common: 255908\n",
      "all announce count after adding new announce: 2602085\n",
      "total withdrawn routes: 12495\n",
      "number tracked routes withdrawn: 0\n",
      "no misconfigs, continuing.\n",
      "2015-01-05T07:30:00\n"
     ]
    },
    {
     "name": "stderr",
     "output_type": "stream",
     "text": [
      "[Parallel(n_jobs=24)]: Using backend MultiprocessingBackend with 24 concurrent workers.\n",
      "[Parallel(n_jobs=24)]: Done   2 out of  24 | elapsed:    0.4s remaining:    4.0s\n",
      "[Parallel(n_jobs=24)]: Done  24 out of  24 | elapsed:    2.5s finished\n"
     ]
    },
    {
     "name": "stdout",
     "output_type": "stream",
     "text": [
      "number of announcements: 337379\n",
      "all announce count: 2602085\n",
      "all announce count after old removal: 2602085\n",
      "announces in common: 252982\n",
      "all announce count after adding new announce: 2686482\n",
      "total withdrawn routes: 11642\n",
      "number tracked routes withdrawn: 0\n",
      "no misconfigs, continuing.\n",
      "2015-01-05T07:45:00\n"
     ]
    },
    {
     "name": "stderr",
     "output_type": "stream",
     "text": [
      "[Parallel(n_jobs=24)]: Using backend MultiprocessingBackend with 24 concurrent workers.\n",
      "[Parallel(n_jobs=24)]: Done   2 out of  24 | elapsed:    0.4s remaining:    4.0s\n",
      "[Parallel(n_jobs=24)]: Done  24 out of  24 | elapsed:    2.4s finished\n"
     ]
    },
    {
     "name": "stdout",
     "output_type": "stream",
     "text": [
      "number of announcements: 330058\n",
      "all announce count: 2686482\n",
      "all announce count after old removal: 2686482\n",
      "announces in common: 242942\n",
      "all announce count after adding new announce: 2773598\n",
      "total withdrawn routes: 3453\n",
      "number tracked routes withdrawn: 0\n",
      "no misconfigs, continuing.\n",
      "2015-01-05T08:00:00\n"
     ]
    },
    {
     "name": "stderr",
     "output_type": "stream",
     "text": [
      "[Parallel(n_jobs=24)]: Using backend MultiprocessingBackend with 24 concurrent workers.\n",
      "[Parallel(n_jobs=24)]: Done   2 out of  24 | elapsed:    0.4s remaining:    4.2s\n",
      "[Parallel(n_jobs=24)]: Done  24 out of  24 | elapsed:    2.8s finished\n"
     ]
    },
    {
     "name": "stdout",
     "output_type": "stream",
     "text": [
      "number of announcements: 312638\n",
      "all announce count: 2773598\n",
      "all announce count after old removal: 2773598\n",
      "announces in common: 216266\n",
      "all announce count after adding new announce: 2869970\n",
      "total withdrawn routes: 7628\n",
      "number tracked routes withdrawn: 0\n",
      "no misconfigs, continuing.\n",
      "2015-01-05T08:15:00\n"
     ]
    },
    {
     "name": "stderr",
     "output_type": "stream",
     "text": [
      "[Parallel(n_jobs=24)]: Using backend MultiprocessingBackend with 24 concurrent workers.\n",
      "[Parallel(n_jobs=24)]: Done   2 out of  24 | elapsed:    0.4s remaining:    4.0s\n",
      "[Parallel(n_jobs=24)]: Done  24 out of  24 | elapsed:    6.2s finished\n"
     ]
    },
    {
     "name": "stdout",
     "output_type": "stream",
     "text": [
      "number of announcements: 837902\n",
      "all announce count: 2869970\n",
      "all announce count after old removal: 2869970\n",
      "announces in common: 243709\n",
      "all announce count after adding new announce: 3464163\n",
      "total withdrawn routes: 6076\n",
      "number tracked routes withdrawn: 0\n",
      "no misconfigs, continuing.\n",
      "2015-01-05T08:30:00\n"
     ]
    },
    {
     "name": "stderr",
     "output_type": "stream",
     "text": [
      "[Parallel(n_jobs=24)]: Using backend MultiprocessingBackend with 24 concurrent workers.\n",
      "[Parallel(n_jobs=24)]: Done   2 out of  24 | elapsed:    0.4s remaining:    4.0s\n",
      "[Parallel(n_jobs=24)]: Done  24 out of  24 | elapsed:    6.3s finished\n"
     ]
    },
    {
     "name": "stdout",
     "output_type": "stream",
     "text": [
      "number of announcements: 862265\n",
      "all announce count: 3464163\n",
      "all announce count after old removal: 3464163\n",
      "announces in common: 732762\n",
      "all announce count after adding new announce: 3593666\n",
      "total withdrawn routes: 2481\n",
      "number tracked routes withdrawn: 0\n",
      "no misconfigs, continuing.\n",
      "2015-01-05T08:45:00\n"
     ]
    },
    {
     "name": "stderr",
     "output_type": "stream",
     "text": [
      "[Parallel(n_jobs=24)]: Using backend MultiprocessingBackend with 24 concurrent workers.\n",
      "[Parallel(n_jobs=24)]: Done   2 out of  24 | elapsed:    0.4s remaining:    4.6s\n",
      "[Parallel(n_jobs=24)]: Done  24 out of  24 | elapsed:    3.4s finished\n"
     ]
    },
    {
     "name": "stdout",
     "output_type": "stream",
     "text": [
      "number of announcements: 374337\n",
      "all announce count: 3593666\n",
      "all announce count after old removal: 3593666\n",
      "announces in common: 304008\n",
      "all announce count after adding new announce: 3663995\n",
      "total withdrawn routes: 2578\n",
      "number tracked routes withdrawn: 0\n",
      "no misconfigs, continuing.\n",
      "2015-01-05T09:00:00\n"
     ]
    },
    {
     "name": "stderr",
     "output_type": "stream",
     "text": [
      "[Parallel(n_jobs=24)]: Using backend MultiprocessingBackend with 24 concurrent workers.\n",
      "[Parallel(n_jobs=24)]: Done   2 out of  24 | elapsed:    0.4s remaining:    4.0s\n",
      "[Parallel(n_jobs=24)]: Done  24 out of  24 | elapsed:    6.5s finished\n"
     ]
    },
    {
     "name": "stdout",
     "output_type": "stream",
     "text": [
      "number of announcements: 1093221\n",
      "all announce count: 3663995\n",
      "all announce count after old removal: 3663995\n",
      "announces in common: 295851\n",
      "all announce count after adding new announce: 4461365\n",
      "total withdrawn routes: 5412\n",
      "number tracked routes withdrawn: 0\n",
      "no misconfigs, continuing.\n",
      "2015-01-05T09:15:00\n"
     ]
    },
    {
     "name": "stderr",
     "output_type": "stream",
     "text": [
      "[Parallel(n_jobs=24)]: Using backend MultiprocessingBackend with 24 concurrent workers.\n",
      "[Parallel(n_jobs=24)]: Done   2 out of  24 | elapsed:    0.4s remaining:    4.0s\n",
      "[Parallel(n_jobs=24)]: Done  24 out of  24 | elapsed:    6.9s finished\n"
     ]
    },
    {
     "name": "stdout",
     "output_type": "stream",
     "text": [
      "number of announcements: 1207448\n",
      "all announce count: 4461365\n",
      "all announce count after old removal: 4461365\n",
      "announces in common: 969189\n",
      "all announce count after adding new announce: 4699624\n",
      "total withdrawn routes: 7549\n",
      "number tracked routes withdrawn: 0\n",
      "no misconfigs, continuing.\n",
      "2015-01-05T09:30:00\n"
     ]
    },
    {
     "name": "stderr",
     "output_type": "stream",
     "text": [
      "[Parallel(n_jobs=24)]: Using backend MultiprocessingBackend with 24 concurrent workers.\n",
      "[Parallel(n_jobs=24)]: Done   2 out of  24 | elapsed:    0.4s remaining:    4.1s\n",
      "[Parallel(n_jobs=24)]: Done  24 out of  24 | elapsed:    2.8s finished\n"
     ]
    },
    {
     "name": "stdout",
     "output_type": "stream",
     "text": [
      "number of announcements: 518316\n",
      "all announce count: 4699624\n",
      "all announce count after old removal: 4699624\n",
      "announces in common: 408327\n",
      "all announce count after adding new announce: 4809613\n",
      "total withdrawn routes: 5741\n",
      "number tracked routes withdrawn: 0\n",
      "no misconfigs, continuing.\n",
      "2015-01-05T09:45:00\n"
     ]
    },
    {
     "name": "stderr",
     "output_type": "stream",
     "text": [
      "[Parallel(n_jobs=24)]: Using backend MultiprocessingBackend with 24 concurrent workers.\n",
      "[Parallel(n_jobs=24)]: Done   2 out of  24 | elapsed:    0.4s remaining:    4.1s\n",
      "[Parallel(n_jobs=24)]: Done  24 out of  24 | elapsed:    2.6s finished\n"
     ]
    },
    {
     "name": "stdout",
     "output_type": "stream",
     "text": [
      "number of announcements: 387184\n",
      "all announce count: 4809613\n",
      "all announce count after old removal: 4809613\n",
      "announces in common: 278627\n",
      "all announce count after adding new announce: 4918170\n",
      "total withdrawn routes: 3406\n",
      "number tracked routes withdrawn: 0\n",
      "no misconfigs, continuing.\n",
      "2015-01-05T10:00:00\n"
     ]
    },
    {
     "name": "stderr",
     "output_type": "stream",
     "text": [
      "[Parallel(n_jobs=24)]: Using backend MultiprocessingBackend with 24 concurrent workers.\n",
      "[Parallel(n_jobs=24)]: Done   2 out of  24 | elapsed:    0.4s remaining:    4.0s\n",
      "[Parallel(n_jobs=24)]: Done  24 out of  24 | elapsed:    2.3s finished\n"
     ]
    },
    {
     "name": "stdout",
     "output_type": "stream",
     "text": [
      "number of announcements: 393106\n",
      "all announce count: 4918170\n",
      "all announce count after old removal: 4918170\n",
      "announces in common: 250342\n",
      "all announce count after adding new announce: 5060934\n",
      "total withdrawn routes: 2997\n",
      "number tracked routes withdrawn: 0\n",
      "no misconfigs, continuing.\n",
      "2015-01-05T10:15:00\n"
     ]
    },
    {
     "name": "stderr",
     "output_type": "stream",
     "text": [
      "[Parallel(n_jobs=24)]: Using backend MultiprocessingBackend with 24 concurrent workers.\n",
      "[Parallel(n_jobs=24)]: Done   2 out of  24 | elapsed:    0.4s remaining:    4.0s\n",
      "[Parallel(n_jobs=24)]: Done  24 out of  24 | elapsed:    2.4s finished\n"
     ]
    },
    {
     "name": "stdout",
     "output_type": "stream",
     "text": [
      "number of announcements: 413553\n",
      "all announce count: 5060934\n",
      "all announce count after old removal: 5060934\n",
      "announces in common: 322768\n",
      "all announce count after adding new announce: 5151719\n",
      "total withdrawn routes: 3263\n",
      "number tracked routes withdrawn: 0\n",
      "no misconfigs, continuing.\n",
      "2015-01-05T10:30:00\n"
     ]
    },
    {
     "name": "stderr",
     "output_type": "stream",
     "text": [
      "[Parallel(n_jobs=24)]: Using backend MultiprocessingBackend with 24 concurrent workers.\n",
      "[Parallel(n_jobs=24)]: Done   2 out of  24 | elapsed:    0.4s remaining:    4.0s\n",
      "[Parallel(n_jobs=24)]: Done  24 out of  24 | elapsed:    2.6s finished\n"
     ]
    },
    {
     "name": "stdout",
     "output_type": "stream",
     "text": [
      "number of announcements: 440291\n",
      "all announce count: 5151719\n",
      "all announce count after old removal: 5151719\n",
      "announces in common: 279175\n",
      "all announce count after adding new announce: 5312835\n",
      "total withdrawn routes: 3522\n",
      "number tracked routes withdrawn: 0\n",
      "no misconfigs, continuing.\n",
      "2015-01-05T10:45:00\n"
     ]
    },
    {
     "name": "stderr",
     "output_type": "stream",
     "text": [
      "[Parallel(n_jobs=24)]: Using backend MultiprocessingBackend with 24 concurrent workers.\n",
      "[Parallel(n_jobs=24)]: Done   2 out of  24 | elapsed:    0.4s remaining:    4.0s\n",
      "[Parallel(n_jobs=24)]: Done  24 out of  24 | elapsed:    2.8s finished\n"
     ]
    },
    {
     "name": "stdout",
     "output_type": "stream",
     "text": [
      "number of announcements: 487251\n",
      "all announce count: 5312835\n",
      "all announce count after old removal: 5312835\n",
      "announces in common: 369758\n",
      "all announce count after adding new announce: 5430328\n",
      "total withdrawn routes: 4276\n",
      "number tracked routes withdrawn: 0\n",
      "no misconfigs, continuing.\n",
      "2015-01-05T11:00:00\n"
     ]
    },
    {
     "name": "stderr",
     "output_type": "stream",
     "text": [
      "[Parallel(n_jobs=24)]: Using backend MultiprocessingBackend with 24 concurrent workers.\n",
      "[Parallel(n_jobs=24)]: Done   2 out of  24 | elapsed:    0.4s remaining:    4.0s\n",
      "[Parallel(n_jobs=24)]: Done  24 out of  24 | elapsed:    2.8s finished\n"
     ]
    },
    {
     "name": "stdout",
     "output_type": "stream",
     "text": [
      "number of announcements: 476129\n",
      "all announce count: 5430328\n",
      "all announce count after old removal: 5430328\n",
      "announces in common: 362058\n",
      "all announce count after adding new announce: 5544399\n",
      "total withdrawn routes: 5419\n",
      "number tracked routes withdrawn: 0\n",
      "no misconfigs, continuing.\n",
      "2015-01-05T11:15:00\n"
     ]
    },
    {
     "name": "stderr",
     "output_type": "stream",
     "text": [
      "[Parallel(n_jobs=24)]: Using backend MultiprocessingBackend with 24 concurrent workers.\n",
      "[Parallel(n_jobs=24)]: Done   2 out of  24 | elapsed:    0.4s remaining:    4.0s\n",
      "[Parallel(n_jobs=24)]: Done  24 out of  24 | elapsed:    2.9s finished\n"
     ]
    },
    {
     "name": "stdout",
     "output_type": "stream",
     "text": [
      "number of announcements: 489034\n",
      "all announce count: 5544399\n",
      "all announce count after old removal: 5544399\n",
      "announces in common: 344426\n",
      "all announce count after adding new announce: 5689007\n",
      "total withdrawn routes: 5305\n",
      "number tracked routes withdrawn: 0\n",
      "no misconfigs, continuing.\n",
      "2015-01-05T11:30:00\n"
     ]
    },
    {
     "name": "stderr",
     "output_type": "stream",
     "text": [
      "[Parallel(n_jobs=24)]: Using backend MultiprocessingBackend with 24 concurrent workers.\n",
      "[Parallel(n_jobs=24)]: Done   2 out of  24 | elapsed:    1.4s remaining:   15.1s\n",
      "[Parallel(n_jobs=24)]: Done  24 out of  24 | elapsed:    3.9s finished\n"
     ]
    },
    {
     "name": "stdout",
     "output_type": "stream",
     "text": [
      "number of announcements: 437509\n",
      "all announce count: 5689007\n",
      "all announce count after old removal: 5689007\n",
      "announces in common: 345830\n",
      "all announce count after adding new announce: 5780686\n",
      "total withdrawn routes: 5970\n",
      "number tracked routes withdrawn: 0\n",
      "no misconfigs, continuing.\n",
      "2015-01-05T11:45:00\n"
     ]
    },
    {
     "name": "stderr",
     "output_type": "stream",
     "text": [
      "[Parallel(n_jobs=24)]: Using backend MultiprocessingBackend with 24 concurrent workers.\n",
      "[Parallel(n_jobs=24)]: Done   2 out of  24 | elapsed:    0.4s remaining:    4.1s\n",
      "[Parallel(n_jobs=24)]: Done  24 out of  24 | elapsed:    2.9s finished\n"
     ]
    },
    {
     "name": "stdout",
     "output_type": "stream",
     "text": [
      "number of announcements: 473085\n",
      "all announce count: 5780686\n",
      "all announce count after old removal: 5780686\n",
      "announces in common: 318091\n",
      "all announce count after adding new announce: 5935680\n",
      "total withdrawn routes: 6134\n",
      "number tracked routes withdrawn: 0\n",
      "no misconfigs, continuing.\n",
      "2015-01-05T12:00:00\n"
     ]
    },
    {
     "name": "stderr",
     "output_type": "stream",
     "text": [
      "[Parallel(n_jobs=24)]: Using backend MultiprocessingBackend with 24 concurrent workers.\n",
      "[Parallel(n_jobs=24)]: Done   2 out of  24 | elapsed:    0.4s remaining:    4.0s\n",
      "[Parallel(n_jobs=24)]: Done  24 out of  24 | elapsed:    3.0s finished\n"
     ]
    },
    {
     "name": "stdout",
     "output_type": "stream",
     "text": [
      "number of announcements: 374942\n",
      "all announce count: 5935680\n",
      "all announce count after old removal: 5935680\n",
      "announces in common: 321484\n",
      "all announce count after adding new announce: 5989138\n",
      "total withdrawn routes: 4384\n",
      "number tracked routes withdrawn: 0\n",
      "no misconfigs, continuing.\n",
      "2015-01-05T12:15:00\n"
     ]
    },
    {
     "name": "stderr",
     "output_type": "stream",
     "text": [
      "[Parallel(n_jobs=24)]: Using backend MultiprocessingBackend with 24 concurrent workers.\n",
      "[Parallel(n_jobs=24)]: Done   2 out of  24 | elapsed:    0.8s remaining:    8.6s\n",
      "[Parallel(n_jobs=24)]: Done  24 out of  24 | elapsed:    3.7s finished\n"
     ]
    },
    {
     "name": "stdout",
     "output_type": "stream",
     "text": [
      "number of announcements: 505381\n",
      "all announce count: 5989138\n",
      "all announce count after old removal: 5989138\n",
      "announces in common: 242222\n",
      "all announce count after adding new announce: 6252297\n",
      "total withdrawn routes: 7845\n",
      "number tracked routes withdrawn: 0\n",
      "no misconfigs, continuing.\n",
      "2015-01-05T12:30:00\n"
     ]
    },
    {
     "name": "stderr",
     "output_type": "stream",
     "text": [
      "[Parallel(n_jobs=24)]: Using backend MultiprocessingBackend with 24 concurrent workers.\n",
      "[Parallel(n_jobs=24)]: Done   2 out of  24 | elapsed:    0.4s remaining:    4.0s\n",
      "[Parallel(n_jobs=24)]: Done  24 out of  24 | elapsed:    3.0s finished\n"
     ]
    },
    {
     "name": "stdout",
     "output_type": "stream",
     "text": [
      "number of announcements: 537609\n",
      "all announce count: 6252297\n",
      "all announce count after old removal: 6252297\n",
      "announces in common: 452331\n",
      "all announce count after adding new announce: 6337575\n",
      "total withdrawn routes: 11945\n",
      "number tracked routes withdrawn: 0\n",
      "no misconfigs, continuing.\n",
      "2015-01-05T12:45:00\n"
     ]
    },
    {
     "name": "stderr",
     "output_type": "stream",
     "text": [
      "[Parallel(n_jobs=24)]: Using backend MultiprocessingBackend with 24 concurrent workers.\n",
      "[Parallel(n_jobs=24)]: Done   2 out of  24 | elapsed:    0.4s remaining:    4.0s\n",
      "[Parallel(n_jobs=24)]: Done  24 out of  24 | elapsed:    3.4s finished\n"
     ]
    },
    {
     "name": "stdout",
     "output_type": "stream",
     "text": [
      "number of announcements: 414268\n",
      "all announce count: 6337575\n",
      "all announce count after old removal: 6337575\n",
      "announces in common: 307562\n",
      "all announce count after adding new announce: 6444281\n",
      "total withdrawn routes: 25713\n",
      "number tracked routes withdrawn: 0\n",
      "no misconfigs, continuing.\n",
      "2015-01-05T13:00:00\n"
     ]
    },
    {
     "name": "stderr",
     "output_type": "stream",
     "text": [
      "[Parallel(n_jobs=24)]: Using backend MultiprocessingBackend with 24 concurrent workers.\n",
      "[Parallel(n_jobs=24)]: Done   2 out of  24 | elapsed:    0.4s remaining:    4.0s\n",
      "[Parallel(n_jobs=24)]: Done  24 out of  24 | elapsed:    3.2s finished\n"
     ]
    },
    {
     "name": "stdout",
     "output_type": "stream",
     "text": [
      "number of announcements: 407018\n",
      "all announce count: 6444281\n",
      "all announce count after old removal: 6444281\n",
      "announces in common: 340234\n",
      "all announce count after adding new announce: 6511065\n",
      "total withdrawn routes: 25459\n",
      "number tracked routes withdrawn: 0\n",
      "no misconfigs, continuing.\n",
      "2015-01-05T13:15:00\n"
     ]
    },
    {
     "name": "stderr",
     "output_type": "stream",
     "text": [
      "[Parallel(n_jobs=24)]: Using backend MultiprocessingBackend with 24 concurrent workers.\n",
      "[Parallel(n_jobs=24)]: Done   2 out of  24 | elapsed:    0.4s remaining:    4.1s\n",
      "[Parallel(n_jobs=24)]: Done  24 out of  24 | elapsed:    2.9s finished\n"
     ]
    },
    {
     "name": "stdout",
     "output_type": "stream",
     "text": [
      "number of announcements: 344176\n",
      "all announce count: 6511065\n",
      "all announce count after old removal: 6511065\n",
      "announces in common: 248923\n",
      "all announce count after adding new announce: 6606318\n",
      "total withdrawn routes: 7504\n",
      "number tracked routes withdrawn: 0\n",
      "no misconfigs, continuing.\n",
      "2015-01-05T13:30:00\n"
     ]
    },
    {
     "name": "stderr",
     "output_type": "stream",
     "text": [
      "[Parallel(n_jobs=24)]: Using backend MultiprocessingBackend with 24 concurrent workers.\n",
      "[Parallel(n_jobs=24)]: Done   2 out of  24 | elapsed:    0.4s remaining:    4.0s\n",
      "[Parallel(n_jobs=24)]: Done  24 out of  24 | elapsed:    2.9s finished\n"
     ]
    },
    {
     "name": "stdout",
     "output_type": "stream",
     "text": [
      "number of announcements: 376583\n",
      "all announce count: 6606318\n",
      "all announce count after old removal: 6606318\n",
      "announces in common: 278870\n",
      "all announce count after adding new announce: 6704031\n",
      "total withdrawn routes: 5964\n",
      "number tracked routes withdrawn: 0\n",
      "no misconfigs, continuing.\n",
      "2015-01-05T13:45:00\n"
     ]
    },
    {
     "name": "stderr",
     "output_type": "stream",
     "text": [
      "[Parallel(n_jobs=24)]: Using backend MultiprocessingBackend with 24 concurrent workers.\n",
      "[Parallel(n_jobs=24)]: Done   2 out of  24 | elapsed:    1.1s remaining:   12.5s\n",
      "[Parallel(n_jobs=24)]: Done  24 out of  24 | elapsed:    9.7s finished\n"
     ]
    },
    {
     "name": "stdout",
     "output_type": "stream",
     "text": [
      "number of announcements: 1299155\n",
      "all announce count: 6704031\n",
      "all announce count after old removal: 6704031\n",
      "announces in common: 341520\n",
      "all announce count after adding new announce: 7661666\n",
      "total withdrawn routes: 193864\n",
      "number tracked routes withdrawn: 0\n",
      "no misconfigs, continuing.\n",
      "2015-01-05T14:00:00\n"
     ]
    },
    {
     "name": "stderr",
     "output_type": "stream",
     "text": [
      "[Parallel(n_jobs=24)]: Using backend MultiprocessingBackend with 24 concurrent workers.\n",
      "[Parallel(n_jobs=24)]: Done   2 out of  24 | elapsed:    1.1s remaining:   12.6s\n",
      "[Parallel(n_jobs=24)]: Done  24 out of  24 | elapsed:    9.4s finished\n"
     ]
    },
    {
     "name": "stdout",
     "output_type": "stream",
     "text": [
      "number of announcements: 1295602\n",
      "all announce count: 7661666\n",
      "all announce count after old removal: 7661666\n",
      "announces in common: 1211385\n",
      "all announce count after adding new announce: 7745883\n",
      "total withdrawn routes: 194081\n",
      "number tracked routes withdrawn: 0\n",
      "no misconfigs, continuing.\n",
      "2015-01-05T14:15:00\n"
     ]
    },
    {
     "name": "stderr",
     "output_type": "stream",
     "text": [
      "[Parallel(n_jobs=24)]: Using backend MultiprocessingBackend with 24 concurrent workers.\n",
      "[Parallel(n_jobs=24)]: Done   2 out of  24 | elapsed:    0.4s remaining:    4.4s\n",
      "[Parallel(n_jobs=24)]: Done  24 out of  24 | elapsed:    3.1s finished\n"
     ]
    },
    {
     "name": "stdout",
     "output_type": "stream",
     "text": [
      "number of announcements: 532094\n",
      "all announce count: 7745883\n",
      "all announce count after old removal: 7745883\n",
      "announces in common: 334485\n",
      "all announce count after adding new announce: 7943492\n",
      "total withdrawn routes: 8587\n",
      "number tracked routes withdrawn: 0\n",
      "no misconfigs, continuing.\n",
      "2015-01-05T14:30:00\n"
     ]
    },
    {
     "name": "stderr",
     "output_type": "stream",
     "text": [
      "[Parallel(n_jobs=24)]: Using backend MultiprocessingBackend with 24 concurrent workers.\n",
      "[Parallel(n_jobs=24)]: Done   2 out of  24 | elapsed:    0.4s remaining:    4.1s\n",
      "[Parallel(n_jobs=24)]: Done  24 out of  24 | elapsed:    2.9s finished\n"
     ]
    },
    {
     "name": "stdout",
     "output_type": "stream",
     "text": [
      "number of announcements: 532567\n",
      "all announce count: 7943492\n",
      "all announce count after old removal: 7943492\n",
      "announces in common: 414927\n",
      "all announce count after adding new announce: 8061132\n",
      "total withdrawn routes: 6746\n",
      "number tracked routes withdrawn: 0\n",
      "no misconfigs, continuing.\n",
      "2015-01-05T14:45:00\n"
     ]
    },
    {
     "name": "stderr",
     "output_type": "stream",
     "text": [
      "[Parallel(n_jobs=24)]: Using backend MultiprocessingBackend with 24 concurrent workers.\n",
      "[Parallel(n_jobs=24)]: Done   2 out of  24 | elapsed:    0.7s remaining:    7.3s\n",
      "[Parallel(n_jobs=24)]: Done  24 out of  24 | elapsed:    3.0s finished\n"
     ]
    },
    {
     "name": "stdout",
     "output_type": "stream",
     "text": [
      "number of announcements: 360410\n",
      "all announce count: 8061132\n",
      "all announce count after old removal: 8061132\n",
      "announces in common: 277914\n",
      "all announce count after adding new announce: 8143628\n",
      "total withdrawn routes: 3686\n",
      "number tracked routes withdrawn: 0\n",
      "no misconfigs, continuing.\n",
      "2015-01-05T15:00:00\n"
     ]
    },
    {
     "name": "stderr",
     "output_type": "stream",
     "text": [
      "[Parallel(n_jobs=24)]: Using backend MultiprocessingBackend with 24 concurrent workers.\n",
      "[Parallel(n_jobs=24)]: Done   2 out of  24 | elapsed:    0.4s remaining:    4.0s\n",
      "[Parallel(n_jobs=24)]: Done  24 out of  24 | elapsed:    2.8s finished\n"
     ]
    },
    {
     "name": "stdout",
     "output_type": "stream",
     "text": [
      "number of announcements: 485122\n",
      "all announce count: 8143628\n",
      "all announce count after old removal: 8143628\n",
      "announces in common: 412444\n",
      "all announce count after adding new announce: 8216306\n",
      "total withdrawn routes: 4822\n",
      "number tracked routes withdrawn: 0\n",
      "no misconfigs, continuing.\n",
      "2015-01-05T15:15:00\n"
     ]
    },
    {
     "name": "stderr",
     "output_type": "stream",
     "text": [
      "[Parallel(n_jobs=24)]: Using backend MultiprocessingBackend with 24 concurrent workers.\n",
      "[Parallel(n_jobs=24)]: Done   2 out of  24 | elapsed:    0.4s remaining:    4.0s\n",
      "[Parallel(n_jobs=24)]: Done  24 out of  24 | elapsed:    3.1s finished\n"
     ]
    },
    {
     "name": "stdout",
     "output_type": "stream",
     "text": [
      "number of announcements: 479766\n",
      "all announce count: 8216306\n",
      "all announce count after old removal: 8216306\n",
      "announces in common: 374155\n",
      "all announce count after adding new announce: 8321917\n",
      "total withdrawn routes: 6382\n",
      "number tracked routes withdrawn: 0\n",
      "no misconfigs, continuing.\n",
      "2015-01-05T15:30:00\n"
     ]
    },
    {
     "name": "stderr",
     "output_type": "stream",
     "text": [
      "[Parallel(n_jobs=24)]: Using backend MultiprocessingBackend with 24 concurrent workers.\n",
      "[Parallel(n_jobs=24)]: Done   2 out of  24 | elapsed:    0.4s remaining:    4.0s\n",
      "[Parallel(n_jobs=24)]: Done  24 out of  24 | elapsed:    3.0s finished\n"
     ]
    },
    {
     "name": "stdout",
     "output_type": "stream",
     "text": [
      "number of announcements: 387227\n",
      "all announce count: 8321917\n",
      "all announce count after old removal: 8321917\n",
      "announces in common: 272390\n",
      "all announce count after adding new announce: 8436754\n",
      "total withdrawn routes: 4867\n",
      "number tracked routes withdrawn: 0\n",
      "no misconfigs, continuing.\n",
      "2015-01-05T15:45:00\n"
     ]
    },
    {
     "name": "stderr",
     "output_type": "stream",
     "text": [
      "[Parallel(n_jobs=24)]: Using backend MultiprocessingBackend with 24 concurrent workers.\n",
      "[Parallel(n_jobs=24)]: Done   2 out of  24 | elapsed:    0.4s remaining:    4.1s\n",
      "[Parallel(n_jobs=24)]: Done  24 out of  24 | elapsed:    2.4s finished\n"
     ]
    },
    {
     "name": "stdout",
     "output_type": "stream",
     "text": [
      "number of announcements: 373081\n",
      "all announce count: 8436754\n",
      "all announce count after old removal: 8436754\n",
      "announces in common: 331047\n",
      "all announce count after adding new announce: 8478788\n",
      "total withdrawn routes: 2876\n",
      "number tracked routes withdrawn: 0\n",
      "no misconfigs, continuing.\n",
      "2015-01-05T16:00:00\n"
     ]
    },
    {
     "name": "stderr",
     "output_type": "stream",
     "text": [
      "[Parallel(n_jobs=24)]: Using backend MultiprocessingBackend with 24 concurrent workers.\n",
      "[Parallel(n_jobs=24)]: Done   2 out of  24 | elapsed:    0.4s remaining:    4.0s\n",
      "[Parallel(n_jobs=24)]: Done  24 out of  24 | elapsed:    2.4s finished\n"
     ]
    },
    {
     "name": "stdout",
     "output_type": "stream",
     "text": [
      "number of announcements: 328012\n",
      "all announce count: 8478788\n",
      "all announce count after old removal: 8478788\n",
      "announces in common: 254705\n",
      "all announce count after adding new announce: 8552095\n",
      "total withdrawn routes: 3407\n",
      "number tracked routes withdrawn: 0\n",
      "no misconfigs, continuing.\n",
      "2015-01-05T16:15:00\n"
     ]
    },
    {
     "name": "stderr",
     "output_type": "stream",
     "text": [
      "[Parallel(n_jobs=24)]: Using backend MultiprocessingBackend with 24 concurrent workers.\n",
      "[Parallel(n_jobs=24)]: Done   2 out of  24 | elapsed:    0.4s remaining:    4.1s\n",
      "[Parallel(n_jobs=24)]: Done  24 out of  24 | elapsed:    2.3s finished\n"
     ]
    },
    {
     "name": "stdout",
     "output_type": "stream",
     "text": [
      "number of announcements: 328392\n",
      "all announce count: 8552095\n",
      "all announce count after old removal: 8552095\n",
      "announces in common: 263059\n",
      "all announce count after adding new announce: 8617428\n",
      "total withdrawn routes: 3157\n",
      "number tracked routes withdrawn: 0\n",
      "no misconfigs, continuing.\n",
      "2015-01-05T16:30:00\n"
     ]
    },
    {
     "name": "stderr",
     "output_type": "stream",
     "text": [
      "[Parallel(n_jobs=24)]: Using backend MultiprocessingBackend with 24 concurrent workers.\n",
      "[Parallel(n_jobs=24)]: Done   2 out of  24 | elapsed:    0.4s remaining:    4.1s\n",
      "[Parallel(n_jobs=24)]: Done  24 out of  24 | elapsed:    2.3s finished\n"
     ]
    },
    {
     "name": "stdout",
     "output_type": "stream",
     "text": [
      "number of announcements: 323833\n",
      "all announce count: 8617428\n",
      "all announce count after old removal: 8617428\n",
      "announces in common: 273729\n",
      "all announce count after adding new announce: 8667532\n",
      "total withdrawn routes: 2510\n",
      "number tracked routes withdrawn: 0\n",
      "no misconfigs, continuing.\n",
      "2015-01-05T16:45:00\n"
     ]
    },
    {
     "name": "stderr",
     "output_type": "stream",
     "text": [
      "[Parallel(n_jobs=24)]: Using backend MultiprocessingBackend with 24 concurrent workers.\n",
      "[Parallel(n_jobs=24)]: Done   2 out of  24 | elapsed:    0.4s remaining:    4.1s\n",
      "[Parallel(n_jobs=24)]: Done  24 out of  24 | elapsed:    3.1s finished\n"
     ]
    },
    {
     "name": "stdout",
     "output_type": "stream",
     "text": [
      "number of announcements: 471869\n",
      "all announce count: 8667532\n",
      "all announce count after old removal: 8667532\n",
      "announces in common: 248588\n",
      "all announce count after adding new announce: 8890813\n",
      "total withdrawn routes: 23200\n",
      "number tracked routes withdrawn: 0\n",
      "no misconfigs, continuing.\n",
      "2015-01-05T17:00:00\n"
     ]
    },
    {
     "name": "stderr",
     "output_type": "stream",
     "text": [
      "[Parallel(n_jobs=24)]: Using backend MultiprocessingBackend with 24 concurrent workers.\n",
      "[Parallel(n_jobs=24)]: Done   2 out of  24 | elapsed:    0.4s remaining:    4.1s\n",
      "[Parallel(n_jobs=24)]: Done  24 out of  24 | elapsed:    5.8s finished\n"
     ]
    },
    {
     "name": "stdout",
     "output_type": "stream",
     "text": [
      "number of announcements: 967720\n",
      "all announce count: 8890813\n",
      "all announce count after old removal: 8890813\n",
      "announces in common: 390009\n",
      "all announce count after adding new announce: 9468524\n",
      "total withdrawn routes: 23168\n",
      "number tracked routes withdrawn: 0\n",
      "no misconfigs, continuing.\n",
      "2015-01-05T17:15:00\n"
     ]
    },
    {
     "name": "stderr",
     "output_type": "stream",
     "text": [
      "[Parallel(n_jobs=24)]: Using backend MultiprocessingBackend with 24 concurrent workers.\n",
      "[Parallel(n_jobs=24)]: Done   2 out of  24 | elapsed:    0.4s remaining:    4.1s\n",
      "[Parallel(n_jobs=24)]: Done  24 out of  24 | elapsed:    5.8s finished\n"
     ]
    },
    {
     "name": "stdout",
     "output_type": "stream",
     "text": [
      "number of announcements: 988692\n",
      "all announce count: 9468524\n",
      "all announce count after old removal: 9468524\n",
      "announces in common: 811758\n",
      "all announce count after adding new announce: 9645458\n",
      "total withdrawn routes: 4545\n",
      "number tracked routes withdrawn: 0\n",
      "no misconfigs, continuing.\n",
      "2015-01-05T17:30:00\n"
     ]
    },
    {
     "name": "stderr",
     "output_type": "stream",
     "text": [
      "[Parallel(n_jobs=24)]: Using backend MultiprocessingBackend with 24 concurrent workers.\n",
      "[Parallel(n_jobs=24)]: Done   2 out of  24 | elapsed:    0.4s remaining:    4.1s\n",
      "[Parallel(n_jobs=24)]: Done  24 out of  24 | elapsed:    6.2s finished\n"
     ]
    },
    {
     "name": "stdout",
     "output_type": "stream",
     "text": [
      "number of announcements: 1010404\n",
      "all announce count: 9645458\n",
      "all announce count after old removal: 9645458\n",
      "announces in common: 448279\n",
      "all announce count after adding new announce: 10207583\n",
      "total withdrawn routes: 4495\n",
      "number tracked routes withdrawn: 0\n",
      "no misconfigs, continuing.\n",
      "2015-01-05T17:45:00\n"
     ]
    },
    {
     "name": "stderr",
     "output_type": "stream",
     "text": [
      "[Parallel(n_jobs=24)]: Using backend MultiprocessingBackend with 24 concurrent workers.\n",
      "[Parallel(n_jobs=24)]: Done   2 out of  24 | elapsed:    0.4s remaining:    4.0s\n",
      "[Parallel(n_jobs=24)]: Done  24 out of  24 | elapsed:    6.2s finished\n"
     ]
    },
    {
     "name": "stdout",
     "output_type": "stream",
     "text": [
      "number of announcements: 886157\n",
      "all announce count: 10207583\n",
      "all announce count after old removal: 10207583\n",
      "announces in common: 771706\n",
      "all announce count after adding new announce: 10322034\n",
      "total withdrawn routes: 3727\n",
      "number tracked routes withdrawn: 0\n",
      "no misconfigs, continuing.\n",
      "2015-01-05T18:00:00\n"
     ]
    },
    {
     "name": "stderr",
     "output_type": "stream",
     "text": [
      "[Parallel(n_jobs=24)]: Using backend MultiprocessingBackend with 24 concurrent workers.\n",
      "[Parallel(n_jobs=24)]: Done   2 out of  24 | elapsed:    0.4s remaining:    4.0s\n",
      "[Parallel(n_jobs=24)]: Done  24 out of  24 | elapsed:    2.8s finished\n"
     ]
    },
    {
     "name": "stdout",
     "output_type": "stream",
     "text": [
      "number of announcements: 327570\n",
      "all announce count: 10322034\n",
      "all announce count after old removal: 10322034\n",
      "announces in common: 269998\n",
      "all announce count after adding new announce: 10379606\n",
      "total withdrawn routes: 3738\n",
      "number tracked routes withdrawn: 0\n",
      "no misconfigs, continuing.\n",
      "2015-01-05T18:15:00\n"
     ]
    },
    {
     "name": "stderr",
     "output_type": "stream",
     "text": [
      "[Parallel(n_jobs=24)]: Using backend MultiprocessingBackend with 24 concurrent workers.\n",
      "[Parallel(n_jobs=24)]: Done   2 out of  24 | elapsed:    0.4s remaining:    4.0s\n",
      "[Parallel(n_jobs=24)]: Done  24 out of  24 | elapsed:    4.0s finished\n"
     ]
    },
    {
     "name": "stdout",
     "output_type": "stream",
     "text": [
      "number of announcements: 501447\n",
      "all announce count: 10379606\n",
      "all announce count after old removal: 10379606\n",
      "announces in common: 313459\n",
      "all announce count after adding new announce: 10567594\n",
      "total withdrawn routes: 13083\n",
      "number tracked routes withdrawn: 0\n",
      "no misconfigs, continuing.\n",
      "2015-01-05T18:30:00\n"
     ]
    },
    {
     "name": "stderr",
     "output_type": "stream",
     "text": [
      "[Parallel(n_jobs=24)]: Using backend MultiprocessingBackend with 24 concurrent workers.\n",
      "[Parallel(n_jobs=24)]: Done   2 out of  24 | elapsed:    0.4s remaining:    4.1s\n",
      "[Parallel(n_jobs=24)]: Done  24 out of  24 | elapsed:    4.1s finished\n"
     ]
    },
    {
     "name": "stdout",
     "output_type": "stream",
     "text": [
      "number of announcements: 525918\n",
      "all announce count: 10567594\n",
      "all announce count after old removal: 10567594\n",
      "announces in common: 438621\n",
      "all announce count after adding new announce: 10654891\n",
      "total withdrawn routes: 13030\n",
      "number tracked routes withdrawn: 0\n",
      "no misconfigs, continuing.\n",
      "2015-01-05T18:45:00\n"
     ]
    },
    {
     "name": "stderr",
     "output_type": "stream",
     "text": [
      "[Parallel(n_jobs=24)]: Using backend MultiprocessingBackend with 24 concurrent workers.\n",
      "[Parallel(n_jobs=24)]: Done   2 out of  24 | elapsed:    0.4s remaining:    4.5s\n",
      "[Parallel(n_jobs=24)]: Done  24 out of  24 | elapsed:    3.0s finished\n"
     ]
    },
    {
     "name": "stdout",
     "output_type": "stream",
     "text": [
      "number of announcements: 383612\n",
      "all announce count: 10654891\n",
      "all announce count after old removal: 10654891\n",
      "announces in common: 321707\n",
      "all announce count after adding new announce: 10716796\n",
      "total withdrawn routes: 3058\n",
      "number tracked routes withdrawn: 0\n",
      "no misconfigs, continuing.\n",
      "2015-01-05T19:00:00\n"
     ]
    },
    {
     "name": "stderr",
     "output_type": "stream",
     "text": [
      "[Parallel(n_jobs=24)]: Using backend MultiprocessingBackend with 24 concurrent workers.\n",
      "[Parallel(n_jobs=24)]: Done   2 out of  24 | elapsed:    0.4s remaining:    4.2s\n",
      "[Parallel(n_jobs=24)]: Done  24 out of  24 | elapsed:    2.5s finished\n"
     ]
    },
    {
     "name": "stdout",
     "output_type": "stream",
     "text": [
      "number of announcements: 306497\n",
      "all announce count: 10716796\n",
      "all announce count after old removal: 10716796\n",
      "announces in common: 239508\n",
      "all announce count after adding new announce: 10783785\n",
      "total withdrawn routes: 3580\n",
      "number tracked routes withdrawn: 0\n",
      "no misconfigs, continuing.\n",
      "2015-01-05T19:15:00\n"
     ]
    },
    {
     "name": "stderr",
     "output_type": "stream",
     "text": [
      "[Parallel(n_jobs=24)]: Using backend MultiprocessingBackend with 24 concurrent workers.\n",
      "[Parallel(n_jobs=24)]: Done   2 out of  24 | elapsed:    0.4s remaining:    4.0s\n",
      "[Parallel(n_jobs=24)]: Done  24 out of  24 | elapsed:    2.5s finished\n"
     ]
    },
    {
     "name": "stdout",
     "output_type": "stream",
     "text": [
      "number of announcements: 336637\n",
      "all announce count: 10783785\n",
      "all announce count after old removal: 10783785\n",
      "announces in common: 241726\n",
      "all announce count after adding new announce: 10878696\n",
      "total withdrawn routes: 2885\n",
      "number tracked routes withdrawn: 0\n",
      "no misconfigs, continuing.\n",
      "2015-01-05T19:30:00\n"
     ]
    },
    {
     "name": "stderr",
     "output_type": "stream",
     "text": [
      "[Parallel(n_jobs=24)]: Using backend MultiprocessingBackend with 24 concurrent workers.\n",
      "[Parallel(n_jobs=24)]: Done   2 out of  24 | elapsed:    0.4s remaining:    4.1s\n",
      "[Parallel(n_jobs=24)]: Done  24 out of  24 | elapsed:    2.3s finished\n"
     ]
    },
    {
     "name": "stdout",
     "output_type": "stream",
     "text": [
      "number of announcements: 414736\n",
      "all announce count: 10878696\n",
      "all announce count after old removal: 10878696\n",
      "announces in common: 323747\n",
      "all announce count after adding new announce: 10969685\n",
      "total withdrawn routes: 9048\n",
      "number tracked routes withdrawn: 0\n",
      "no misconfigs, continuing.\n",
      "2015-01-05T19:45:00\n"
     ]
    },
    {
     "name": "stderr",
     "output_type": "stream",
     "text": [
      "[Parallel(n_jobs=24)]: Using backend MultiprocessingBackend with 24 concurrent workers.\n",
      "[Parallel(n_jobs=24)]: Done   2 out of  24 | elapsed:    1.0s remaining:   11.5s\n",
      "[Parallel(n_jobs=24)]: Done  24 out of  24 | elapsed:    7.0s finished\n"
     ]
    },
    {
     "name": "stdout",
     "output_type": "stream",
     "text": [
      "number of announcements: 844141\n",
      "all announce count: 10969685\n",
      "all announce count after old removal: 10969685\n",
      "announces in common: 405952\n",
      "all announce count after adding new announce: 11407874\n",
      "total withdrawn routes: 8996\n",
      "number tracked routes withdrawn: 0\n",
      "no misconfigs, continuing.\n",
      "2015-01-05T20:00:00\n"
     ]
    },
    {
     "name": "stderr",
     "output_type": "stream",
     "text": [
      "[Parallel(n_jobs=24)]: Using backend MultiprocessingBackend with 24 concurrent workers.\n",
      "[Parallel(n_jobs=24)]: Done   2 out of  24 | elapsed:    0.4s remaining:    4.0s\n",
      "[Parallel(n_jobs=24)]: Done  24 out of  24 | elapsed:    6.1s finished\n"
     ]
    },
    {
     "name": "stdout",
     "output_type": "stream",
     "text": [
      "number of announcements: 873284\n",
      "all announce count: 11407874\n",
      "all announce count after old removal: 11407874\n",
      "announces in common: 746581\n",
      "all announce count after adding new announce: 11534577\n",
      "total withdrawn routes: 247146\n",
      "number tracked routes withdrawn: 0\n",
      "no misconfigs, continuing.\n",
      "2015-01-05T20:15:00\n"
     ]
    },
    {
     "name": "stderr",
     "output_type": "stream",
     "text": [
      "[Parallel(n_jobs=24)]: Using backend MultiprocessingBackend with 24 concurrent workers.\n",
      "[Parallel(n_jobs=24)]: Done   2 out of  24 | elapsed:    0.4s remaining:    4.0s\n",
      "[Parallel(n_jobs=24)]: Done  24 out of  24 | elapsed:    3.4s finished\n"
     ]
    },
    {
     "name": "stdout",
     "output_type": "stream",
     "text": [
      "number of announcements: 416226\n",
      "all announce count: 11534577\n",
      "all announce count after old removal: 11534577\n",
      "announces in common: 338045\n",
      "all announce count after adding new announce: 11612758\n",
      "total withdrawn routes: 251207\n",
      "number tracked routes withdrawn: 0\n",
      "no misconfigs, continuing.\n",
      "2015-01-05T20:30:00\n"
     ]
    },
    {
     "name": "stderr",
     "output_type": "stream",
     "text": [
      "[Parallel(n_jobs=24)]: Using backend MultiprocessingBackend with 24 concurrent workers.\n",
      "[Parallel(n_jobs=24)]: Done   2 out of  24 | elapsed:    0.4s remaining:    4.2s\n",
      "[Parallel(n_jobs=24)]: Done  24 out of  24 | elapsed:    3.2s finished\n"
     ]
    },
    {
     "name": "stdout",
     "output_type": "stream",
     "text": [
      "number of announcements: 381938\n",
      "all announce count: 11612758\n",
      "all announce count after old removal: 11612758\n",
      "announces in common: 326277\n",
      "all announce count after adding new announce: 11668419\n",
      "total withdrawn routes: 231880\n",
      "number tracked routes withdrawn: 0\n",
      "no misconfigs, continuing.\n",
      "2015-01-05T20:45:00\n"
     ]
    },
    {
     "name": "stderr",
     "output_type": "stream",
     "text": [
      "[Parallel(n_jobs=24)]: Using backend MultiprocessingBackend with 24 concurrent workers.\n",
      "[Parallel(n_jobs=24)]: Done   2 out of  24 | elapsed:    0.4s remaining:    4.1s\n",
      "[Parallel(n_jobs=24)]: Done  24 out of  24 | elapsed:    2.0s finished\n"
     ]
    },
    {
     "name": "stdout",
     "output_type": "stream",
     "text": [
      "number of announcements: 205044\n",
      "all announce count: 11668419\n",
      "all announce count after old removal: 11668419\n",
      "announces in common: 177875\n",
      "all announce count after adding new announce: 11695588\n",
      "total withdrawn routes: 89516\n",
      "number tracked routes withdrawn: 0\n",
      "no misconfigs, continuing.\n",
      "2015-01-05T21:00:00\n"
     ]
    },
    {
     "name": "stderr",
     "output_type": "stream",
     "text": [
      "[Parallel(n_jobs=24)]: Using backend MultiprocessingBackend with 24 concurrent workers.\n",
      "[Parallel(n_jobs=24)]: Done   2 out of  24 | elapsed:    0.4s remaining:    4.1s\n",
      "[Parallel(n_jobs=24)]: Done  24 out of  24 | elapsed:    2.2s finished\n"
     ]
    },
    {
     "name": "stdout",
     "output_type": "stream",
     "text": [
      "number of announcements: 237149\n",
      "all announce count: 11695588\n",
      "all announce count after old removal: 11695588\n",
      "announces in common: 162489\n",
      "all announce count after adding new announce: 11770248\n",
      "total withdrawn routes: 2054\n",
      "number tracked routes withdrawn: 0\n",
      "no misconfigs, continuing.\n",
      "2015-01-05T21:15:00\n"
     ]
    },
    {
     "name": "stderr",
     "output_type": "stream",
     "text": [
      "[Parallel(n_jobs=24)]: Using backend MultiprocessingBackend with 24 concurrent workers.\n",
      "[Parallel(n_jobs=24)]: Done   2 out of  24 | elapsed:    0.4s remaining:    4.0s\n",
      "[Parallel(n_jobs=24)]: Done  24 out of  24 | elapsed:    2.2s finished\n"
     ]
    },
    {
     "name": "stdout",
     "output_type": "stream",
     "text": [
      "number of announcements: 306588\n",
      "all announce count: 11770248\n",
      "all announce count after old removal: 11770248\n",
      "announces in common: 225860\n",
      "all announce count after adding new announce: 11850976\n",
      "total withdrawn routes: 2842\n",
      "number tracked routes withdrawn: 0\n",
      "no misconfigs, continuing.\n",
      "2015-01-05T21:30:00\n"
     ]
    },
    {
     "name": "stderr",
     "output_type": "stream",
     "text": [
      "[Parallel(n_jobs=24)]: Using backend MultiprocessingBackend with 24 concurrent workers.\n",
      "[Parallel(n_jobs=24)]: Done   2 out of  24 | elapsed:    0.4s remaining:    4.0s\n",
      "[Parallel(n_jobs=24)]: Done  24 out of  24 | elapsed:    2.9s finished\n"
     ]
    },
    {
     "name": "stdout",
     "output_type": "stream",
     "text": [
      "number of announcements: 452242\n",
      "all announce count: 11850976\n",
      "all announce count after old removal: 11850976\n",
      "announces in common: 272044\n",
      "all announce count after adding new announce: 12031174\n",
      "total withdrawn routes: 4085\n",
      "number tracked routes withdrawn: 0\n",
      "no misconfigs, continuing.\n",
      "2015-01-05T21:45:00\n"
     ]
    },
    {
     "name": "stderr",
     "output_type": "stream",
     "text": [
      "[Parallel(n_jobs=24)]: Using backend MultiprocessingBackend with 24 concurrent workers.\n",
      "[Parallel(n_jobs=24)]: Done   2 out of  24 | elapsed:    0.4s remaining:    4.1s\n",
      "[Parallel(n_jobs=24)]: Done  24 out of  24 | elapsed:    2.7s finished\n"
     ]
    },
    {
     "name": "stdout",
     "output_type": "stream",
     "text": [
      "number of announcements: 443357\n",
      "all announce count: 12031174\n",
      "all announce count after old removal: 12031174\n",
      "announces in common: 388354\n",
      "all announce count after adding new announce: 12086177\n",
      "total withdrawn routes: 4131\n",
      "number tracked routes withdrawn: 0\n",
      "no misconfigs, continuing.\n",
      "2015-01-05T22:00:00\n"
     ]
    },
    {
     "name": "stderr",
     "output_type": "stream",
     "text": [
      "[Parallel(n_jobs=24)]: Using backend MultiprocessingBackend with 24 concurrent workers.\n",
      "[Parallel(n_jobs=24)]: Done   2 out of  24 | elapsed:    0.4s remaining:    4.0s\n",
      "[Parallel(n_jobs=24)]: Done  24 out of  24 | elapsed:    2.4s finished\n"
     ]
    },
    {
     "name": "stdout",
     "output_type": "stream",
     "text": [
      "number of announcements: 325213\n",
      "all announce count: 12086177\n",
      "all announce count after old removal: 12086177\n",
      "announces in common: 240163\n",
      "all announce count after adding new announce: 12171227\n",
      "total withdrawn routes: 3880\n",
      "number tracked routes withdrawn: 0\n",
      "no misconfigs, continuing.\n",
      "2015-01-05T22:15:00\n"
     ]
    },
    {
     "name": "stderr",
     "output_type": "stream",
     "text": [
      "[Parallel(n_jobs=24)]: Using backend MultiprocessingBackend with 24 concurrent workers.\n",
      "[Parallel(n_jobs=24)]: Done   2 out of  24 | elapsed:    0.4s remaining:    4.0s\n",
      "[Parallel(n_jobs=24)]: Done  24 out of  24 | elapsed:    2.3s finished\n"
     ]
    },
    {
     "name": "stdout",
     "output_type": "stream",
     "text": [
      "number of announcements: 326749\n",
      "all announce count: 12171227\n",
      "all announce count after old removal: 12171227\n",
      "announces in common: 267863\n",
      "all announce count after adding new announce: 12230113\n",
      "total withdrawn routes: 16722\n",
      "number tracked routes withdrawn: 0\n",
      "no misconfigs, continuing.\n",
      "2015-01-05T22:30:00\n"
     ]
    },
    {
     "name": "stderr",
     "output_type": "stream",
     "text": [
      "[Parallel(n_jobs=24)]: Using backend MultiprocessingBackend with 24 concurrent workers.\n",
      "[Parallel(n_jobs=24)]: Done   2 out of  24 | elapsed:    0.4s remaining:    4.0s\n",
      "[Parallel(n_jobs=24)]: Done  24 out of  24 | elapsed:    2.3s finished\n"
     ]
    },
    {
     "name": "stdout",
     "output_type": "stream",
     "text": [
      "number of announcements: 277468\n",
      "all announce count: 12230113\n",
      "all announce count after old removal: 12230113\n",
      "announces in common: 231387\n",
      "all announce count after adding new announce: 12276194\n",
      "total withdrawn routes: 15866\n",
      "number tracked routes withdrawn: 0\n",
      "no misconfigs, continuing.\n",
      "2015-01-05T22:45:00\n"
     ]
    },
    {
     "name": "stderr",
     "output_type": "stream",
     "text": [
      "[Parallel(n_jobs=24)]: Using backend MultiprocessingBackend with 24 concurrent workers.\n",
      "[Parallel(n_jobs=24)]: Done   2 out of  24 | elapsed:    0.4s remaining:    4.1s\n",
      "[Parallel(n_jobs=24)]: Done  24 out of  24 | elapsed:    2.2s finished\n"
     ]
    },
    {
     "name": "stdout",
     "output_type": "stream",
     "text": [
      "number of announcements: 306302\n",
      "all announce count: 12276194\n",
      "all announce count after old removal: 12276194\n",
      "announces in common: 202523\n",
      "all announce count after adding new announce: 12379973\n",
      "total withdrawn routes: 3954\n",
      "number tracked routes withdrawn: 0\n",
      "no misconfigs, continuing.\n",
      "2015-01-05T23:00:00\n"
     ]
    },
    {
     "name": "stderr",
     "output_type": "stream",
     "text": [
      "[Parallel(n_jobs=24)]: Using backend MultiprocessingBackend with 24 concurrent workers.\n",
      "[Parallel(n_jobs=24)]: Done   2 out of  24 | elapsed:    0.4s remaining:    4.0s\n",
      "[Parallel(n_jobs=24)]: Done  24 out of  24 | elapsed:    2.4s finished\n"
     ]
    },
    {
     "name": "stdout",
     "output_type": "stream",
     "text": [
      "number of announcements: 438413\n",
      "all announce count: 12379973\n",
      "all announce count after old removal: 12379973\n",
      "announces in common: 280106\n",
      "all announce count after adding new announce: 12538280\n",
      "total withdrawn routes: 12813\n",
      "number tracked routes withdrawn: 0\n",
      "no misconfigs, continuing.\n",
      "2015-01-05T23:15:00\n"
     ]
    },
    {
     "name": "stderr",
     "output_type": "stream",
     "text": [
      "[Parallel(n_jobs=24)]: Using backend MultiprocessingBackend with 24 concurrent workers.\n",
      "[Parallel(n_jobs=24)]: Done   2 out of  24 | elapsed:    0.4s remaining:    4.1s\n",
      "[Parallel(n_jobs=24)]: Done  24 out of  24 | elapsed:    2.2s finished\n"
     ]
    },
    {
     "name": "stdout",
     "output_type": "stream",
     "text": [
      "number of announcements: 408623\n",
      "all announce count: 12538280\n",
      "all announce count after old removal: 12538280\n",
      "announces in common: 333402\n",
      "all announce count after adding new announce: 12613501\n",
      "total withdrawn routes: 12021\n",
      "number tracked routes withdrawn: 0\n",
      "no misconfigs, continuing.\n",
      "2015-01-05T23:30:00\n"
     ]
    },
    {
     "name": "stderr",
     "output_type": "stream",
     "text": [
      "[Parallel(n_jobs=24)]: Using backend MultiprocessingBackend with 24 concurrent workers.\n",
      "[Parallel(n_jobs=24)]: Done   2 out of  24 | elapsed:    0.4s remaining:    4.0s\n",
      "[Parallel(n_jobs=24)]: Done  24 out of  24 | elapsed:    1.9s finished\n"
     ]
    },
    {
     "name": "stdout",
     "output_type": "stream",
     "text": [
      "number of announcements: 288324\n",
      "all announce count: 12613501\n",
      "all announce count after old removal: 12613501\n",
      "announces in common: 248249\n",
      "all announce count after adding new announce: 12653576\n",
      "total withdrawn routes: 7730\n",
      "number tracked routes withdrawn: 0\n",
      "no misconfigs, continuing.\n",
      "2015-01-05T23:45:00\n"
     ]
    },
    {
     "name": "stderr",
     "output_type": "stream",
     "text": [
      "[Parallel(n_jobs=24)]: Using backend MultiprocessingBackend with 24 concurrent workers.\n",
      "[Parallel(n_jobs=24)]: Done   2 out of  24 | elapsed:    0.4s remaining:    4.1s\n",
      "[Parallel(n_jobs=24)]: Done  24 out of  24 | elapsed:    2.0s finished\n"
     ]
    },
    {
     "name": "stdout",
     "output_type": "stream",
     "text": [
      "number of announcements: 252530\n",
      "all announce count: 12653576\n",
      "all announce count after old removal: 12653576\n",
      "announces in common: 200811\n",
      "all announce count after adding new announce: 12705295\n",
      "total withdrawn routes: 7337\n",
      "number tracked routes withdrawn: 0\n",
      "no misconfigs, continuing.\n",
      "2015-01-06T00:00:00\n"
     ]
    },
    {
     "name": "stderr",
     "output_type": "stream",
     "text": [
      "[Parallel(n_jobs=23)]: Using backend MultiprocessingBackend with 23 concurrent workers.\n",
      "[Parallel(n_jobs=23)]: Done   2 out of  23 | elapsed:    1.7s remaining:   18.0s\n",
      "[Parallel(n_jobs=23)]: Done  23 out of  23 | elapsed:    4.3s finished\n"
     ]
    },
    {
     "name": "stdout",
     "output_type": "stream",
     "text": [
      "number of announcements: 302171\n",
      "all announce count: 12705295\n",
      "all announce count after old removal: 12705295\n",
      "announces in common: 217122\n",
      "all announce count after adding new announce: 12790344\n",
      "total withdrawn routes: 8162\n",
      "number tracked routes withdrawn: 0\n",
      "no misconfigs, continuing.\n",
      "2015-01-06T00:15:00\n"
     ]
    },
    {
     "name": "stderr",
     "output_type": "stream",
     "text": [
      "[Parallel(n_jobs=24)]: Using backend MultiprocessingBackend with 24 concurrent workers.\n",
      "[Parallel(n_jobs=24)]: Done   2 out of  24 | elapsed:    0.4s remaining:    4.0s\n",
      "[Parallel(n_jobs=24)]: Done  24 out of  24 | elapsed:    3.0s finished\n"
     ]
    },
    {
     "name": "stdout",
     "output_type": "stream",
     "text": [
      "number of announcements: 452367\n",
      "all announce count: 12790344\n",
      "all announce count after old removal: 12790344\n",
      "announces in common: 254175\n",
      "all announce count after adding new announce: 12988536\n",
      "total withdrawn routes: 7770\n",
      "number tracked routes withdrawn: 0\n",
      "no misconfigs, continuing.\n",
      "2015-01-06T00:30:00\n"
     ]
    },
    {
     "name": "stderr",
     "output_type": "stream",
     "text": [
      "[Parallel(n_jobs=24)]: Using backend MultiprocessingBackend with 24 concurrent workers.\n",
      "[Parallel(n_jobs=24)]: Done   2 out of  24 | elapsed:    0.4s remaining:    4.1s\n",
      "[Parallel(n_jobs=24)]: Done  24 out of  24 | elapsed:    3.2s finished\n"
     ]
    },
    {
     "name": "stdout",
     "output_type": "stream",
     "text": [
      "number of announcements: 464471\n",
      "all announce count: 12988536\n",
      "all announce count after old removal: 12988536\n",
      "announces in common: 356426\n",
      "all announce count after adding new announce: 13096581\n",
      "total withdrawn routes: 4514\n",
      "number tracked routes withdrawn: 0\n",
      "no misconfigs, continuing.\n",
      "2015-01-06T00:45:00\n"
     ]
    },
    {
     "name": "stderr",
     "output_type": "stream",
     "text": [
      "[Parallel(n_jobs=24)]: Using backend MultiprocessingBackend with 24 concurrent workers.\n",
      "[Parallel(n_jobs=24)]: Done   2 out of  24 | elapsed:    2.0s remaining:   21.6s\n",
      "[Parallel(n_jobs=24)]: Done  24 out of  24 | elapsed:    4.7s finished\n"
     ]
    },
    {
     "name": "stdout",
     "output_type": "stream",
     "text": [
      "number of announcements: 315436\n",
      "all announce count: 13096581\n",
      "all announce count after old removal: 13096581\n",
      "announces in common: 282668\n",
      "all announce count after adding new announce: 13129349\n",
      "total withdrawn routes: 3140\n",
      "number tracked routes withdrawn: 0\n",
      "no misconfigs, continuing.\n",
      "2015-01-06T01:00:00\n"
     ]
    },
    {
     "name": "stderr",
     "output_type": "stream",
     "text": [
      "[Parallel(n_jobs=24)]: Using backend MultiprocessingBackend with 24 concurrent workers.\n",
      "[Parallel(n_jobs=24)]: Done   2 out of  24 | elapsed:    0.4s remaining:    4.0s\n",
      "[Parallel(n_jobs=24)]: Done  24 out of  24 | elapsed:    1.9s finished\n"
     ]
    },
    {
     "name": "stdout",
     "output_type": "stream",
     "text": [
      "number of announcements: 217941\n",
      "all announce count: 13129349\n",
      "all announce count after old removal: 13129349\n",
      "announces in common: 169758\n",
      "all announce count after adding new announce: 13177532\n",
      "total withdrawn routes: 1568\n",
      "number tracked routes withdrawn: 0\n",
      "no misconfigs, continuing.\n",
      "2015-01-06T01:15:00\n"
     ]
    },
    {
     "name": "stderr",
     "output_type": "stream",
     "text": [
      "[Parallel(n_jobs=24)]: Using backend MultiprocessingBackend with 24 concurrent workers.\n",
      "[Parallel(n_jobs=24)]: Done   2 out of  24 | elapsed:    0.4s remaining:    4.1s\n",
      "[Parallel(n_jobs=24)]: Done  24 out of  24 | elapsed:    2.4s finished\n"
     ]
    },
    {
     "name": "stdout",
     "output_type": "stream",
     "text": [
      "number of announcements: 236275\n",
      "all announce count: 13177532\n",
      "all announce count after old removal: 13177532\n",
      "announces in common: 203034\n",
      "all announce count after adding new announce: 13210773\n",
      "total withdrawn routes: 2965\n",
      "number tracked routes withdrawn: 0\n",
      "no misconfigs, continuing.\n",
      "2015-01-06T01:30:00\n"
     ]
    },
    {
     "name": "stderr",
     "output_type": "stream",
     "text": [
      "[Parallel(n_jobs=24)]: Using backend MultiprocessingBackend with 24 concurrent workers.\n",
      "[Parallel(n_jobs=24)]: Done   2 out of  24 | elapsed:    0.5s remaining:    6.0s\n",
      "[Parallel(n_jobs=24)]: Done  24 out of  24 | elapsed:    3.1s finished\n"
     ]
    },
    {
     "name": "stdout",
     "output_type": "stream",
     "text": [
      "number of announcements: 219762\n",
      "all announce count: 13210773\n",
      "all announce count after old removal: 13210773\n",
      "announces in common: 195132\n",
      "all announce count after adding new announce: 13235403\n",
      "total withdrawn routes: 3313\n",
      "number tracked routes withdrawn: 0\n",
      "no misconfigs, continuing.\n",
      "2015-01-06T01:45:00\n"
     ]
    },
    {
     "name": "stderr",
     "output_type": "stream",
     "text": [
      "[Parallel(n_jobs=24)]: Using backend MultiprocessingBackend with 24 concurrent workers.\n",
      "[Parallel(n_jobs=24)]: Done   2 out of  24 | elapsed:    0.7s remaining:    7.7s\n",
      "[Parallel(n_jobs=24)]: Done  24 out of  24 | elapsed:    2.7s finished\n"
     ]
    },
    {
     "name": "stdout",
     "output_type": "stream",
     "text": [
      "number of announcements: 221641\n",
      "all announce count: 13235403\n",
      "all announce count after old removal: 13235403\n",
      "announces in common: 174164\n",
      "all announce count after adding new announce: 13282880\n",
      "total withdrawn routes: 2704\n",
      "number tracked routes withdrawn: 0\n",
      "no misconfigs, continuing.\n",
      "2015-01-06T02:00:00\n"
     ]
    },
    {
     "name": "stderr",
     "output_type": "stream",
     "text": [
      "[Parallel(n_jobs=24)]: Using backend MultiprocessingBackend with 24 concurrent workers.\n",
      "[Parallel(n_jobs=24)]: Done   2 out of  24 | elapsed:    0.4s remaining:    4.0s\n",
      "[Parallel(n_jobs=24)]: Done  24 out of  24 | elapsed:   14.0s finished\n"
     ]
    },
    {
     "name": "stdout",
     "output_type": "stream",
     "text": [
      "number of announcements: 1847081\n",
      "all announce count: 13282880\n",
      "all announce count after old removal: 13282880\n",
      "announces in common: 302057\n",
      "all announce count after adding new announce: 14827904\n",
      "total withdrawn routes: 3452\n",
      "number tracked routes withdrawn: 0\n",
      "no misconfigs, continuing.\n",
      "2015-01-06T02:15:00\n"
     ]
    },
    {
     "name": "stderr",
     "output_type": "stream",
     "text": [
      "[Parallel(n_jobs=24)]: Using backend MultiprocessingBackend with 24 concurrent workers.\n",
      "[Parallel(n_jobs=24)]: Done   2 out of  24 | elapsed:    0.4s remaining:    4.0s\n",
      "[Parallel(n_jobs=24)]: Done  24 out of  24 | elapsed:   13.3s finished\n"
     ]
    },
    {
     "name": "stdout",
     "output_type": "stream",
     "text": [
      "number of announcements: 1873293\n",
      "all announce count: 14827904\n",
      "all announce count after old removal: 14827904\n",
      "announces in common: 1839046\n",
      "all announce count after adding new announce: 14862151\n",
      "total withdrawn routes: 3831\n",
      "number tracked routes withdrawn: 0\n",
      "no misconfigs, continuing.\n",
      "2015-01-06T02:30:00\n"
     ]
    },
    {
     "name": "stderr",
     "output_type": "stream",
     "text": [
      "[Parallel(n_jobs=24)]: Using backend MultiprocessingBackend with 24 concurrent workers.\n",
      "[Parallel(n_jobs=24)]: Done   2 out of  24 | elapsed:    0.4s remaining:    4.2s\n",
      "[Parallel(n_jobs=24)]: Done  24 out of  24 | elapsed:    8.1s finished\n"
     ]
    },
    {
     "name": "stdout",
     "output_type": "stream",
     "text": [
      "number of announcements: 730643\n",
      "all announce count: 14862151\n",
      "all announce count after old removal: 14862151\n",
      "announces in common: 272005\n",
      "all announce count after adding new announce: 15320789\n",
      "total withdrawn routes: 9535\n",
      "number tracked routes withdrawn: 0\n",
      "no misconfigs, continuing.\n",
      "2015-01-06T02:45:00\n"
     ]
    },
    {
     "name": "stderr",
     "output_type": "stream",
     "text": [
      "[Parallel(n_jobs=24)]: Using backend MultiprocessingBackend with 24 concurrent workers.\n",
      "[Parallel(n_jobs=24)]: Done   2 out of  24 | elapsed:    0.4s remaining:    4.0s\n",
      "[Parallel(n_jobs=24)]: Done  24 out of  24 | elapsed:    7.9s finished\n"
     ]
    },
    {
     "name": "stdout",
     "output_type": "stream",
     "text": [
      "number of announcements: 868159\n",
      "all announce count: 15320789\n",
      "all announce count after old removal: 15320789\n",
      "announces in common: 701971\n",
      "all announce count after adding new announce: 15486977\n",
      "total withdrawn routes: 9490\n",
      "number tracked routes withdrawn: 0\n",
      "no misconfigs, continuing.\n",
      "2015-01-06T03:00:00\n"
     ]
    },
    {
     "name": "stderr",
     "output_type": "stream",
     "text": [
      "[Parallel(n_jobs=24)]: Using backend MultiprocessingBackend with 24 concurrent workers.\n",
      "[Parallel(n_jobs=24)]: Done   2 out of  24 | elapsed:    0.4s remaining:    4.0s\n",
      "[Parallel(n_jobs=24)]: Done  24 out of  24 | elapsed:    2.8s finished\n"
     ]
    },
    {
     "name": "stdout",
     "output_type": "stream",
     "text": [
      "number of announcements: 482660\n",
      "all announce count: 15486977\n",
      "all announce count after old removal: 15427335\n",
      "announces in common: 412400\n",
      "all announce count after adding new announce: 15497595\n",
      "total withdrawn routes: 4568\n",
      "number tracked routes withdrawn: 0\n",
      "no misconfigs, continuing.\n",
      "2015-01-06T03:15:00\n"
     ]
    },
    {
     "name": "stderr",
     "output_type": "stream",
     "text": [
      "[Parallel(n_jobs=24)]: Using backend MultiprocessingBackend with 24 concurrent workers.\n",
      "[Parallel(n_jobs=24)]: Done   2 out of  24 | elapsed:    0.4s remaining:    4.2s\n",
      "[Parallel(n_jobs=24)]: Done  24 out of  24 | elapsed:    2.7s finished\n"
     ]
    },
    {
     "name": "stdout",
     "output_type": "stream",
     "text": [
      "number of announcements: 424373\n",
      "all announce count: 15497595\n",
      "all announce count after old removal: 15459571\n",
      "announces in common: 358215\n",
      "all announce count after adding new announce: 15525729\n",
      "total withdrawn routes: 4685\n",
      "number tracked routes withdrawn: 0\n",
      "no misconfigs, continuing.\n",
      "2015-01-06T03:30:00\n"
     ]
    },
    {
     "name": "stderr",
     "output_type": "stream",
     "text": [
      "[Parallel(n_jobs=24)]: Using backend MultiprocessingBackend with 24 concurrent workers.\n",
      "[Parallel(n_jobs=24)]: Done   2 out of  24 | elapsed:    0.4s remaining:    4.1s\n",
      "[Parallel(n_jobs=24)]: Done  24 out of  24 | elapsed:    2.6s finished\n"
     ]
    },
    {
     "name": "stdout",
     "output_type": "stream",
     "text": [
      "number of announcements: 488350\n",
      "all announce count: 15525729\n",
      "all announce count after old removal: 15488943\n",
      "announces in common: 366728\n",
      "all announce count after adding new announce: 15610565\n",
      "total withdrawn routes: 5996\n",
      "number tracked routes withdrawn: 0\n",
      "no misconfigs, continuing.\n",
      "2015-01-06T03:45:00\n"
     ]
    },
    {
     "name": "stderr",
     "output_type": "stream",
     "text": [
      "[Parallel(n_jobs=24)]: Using backend MultiprocessingBackend with 24 concurrent workers.\n",
      "[Parallel(n_jobs=24)]: Done   2 out of  24 | elapsed:    0.4s remaining:    4.1s\n",
      "[Parallel(n_jobs=24)]: Done  24 out of  24 | elapsed:    2.7s finished\n"
     ]
    },
    {
     "name": "stdout",
     "output_type": "stream",
     "text": [
      "number of announcements: 443128\n",
      "all announce count: 15610565\n",
      "all announce count after old removal: 15428775\n",
      "announces in common: 340270\n",
      "all announce count after adding new announce: 15531633\n",
      "total withdrawn routes: 6545\n",
      "number tracked routes withdrawn: 0\n",
      "no misconfigs, continuing.\n",
      "2015-01-06T04:00:00\n"
     ]
    },
    {
     "name": "stderr",
     "output_type": "stream",
     "text": [
      "[Parallel(n_jobs=24)]: Using backend MultiprocessingBackend with 24 concurrent workers.\n",
      "[Parallel(n_jobs=24)]: Done   2 out of  24 | elapsed:    0.4s remaining:    4.0s\n",
      "[Parallel(n_jobs=24)]: Done  24 out of  24 | elapsed:    2.9s finished\n"
     ]
    },
    {
     "name": "stdout",
     "output_type": "stream",
     "text": [
      "number of announcements: 364527\n",
      "all announce count: 15531633\n",
      "all announce count after old removal: 15287213\n",
      "announces in common: 314969\n",
      "all announce count after adding new announce: 15336771\n",
      "total withdrawn routes: 4471\n",
      "number tracked routes withdrawn: 0\n",
      "no misconfigs, continuing.\n",
      "2015-01-06T04:15:00\n"
     ]
    },
    {
     "name": "stderr",
     "output_type": "stream",
     "text": [
      "[Parallel(n_jobs=24)]: Using backend MultiprocessingBackend with 24 concurrent workers.\n",
      "[Parallel(n_jobs=24)]: Done   2 out of  24 | elapsed:    0.4s remaining:    4.0s\n",
      "[Parallel(n_jobs=24)]: Done  24 out of  24 | elapsed:    2.4s finished\n"
     ]
    },
    {
     "name": "stdout",
     "output_type": "stream",
     "text": [
      "number of announcements: 297531\n",
      "all announce count: 15336771\n",
      "all announce count after old removal: 15226467\n",
      "announces in common: 238256\n",
      "all announce count after adding new announce: 15285742\n",
      "total withdrawn routes: 3767\n",
      "number tracked routes withdrawn: 0\n",
      "no misconfigs, continuing.\n",
      "2015-01-06T04:30:00\n"
     ]
    },
    {
     "name": "stderr",
     "output_type": "stream",
     "text": [
      "[Parallel(n_jobs=24)]: Using backend MultiprocessingBackend with 24 concurrent workers.\n",
      "[Parallel(n_jobs=24)]: Done   2 out of  24 | elapsed:    0.4s remaining:    4.1s\n",
      "[Parallel(n_jobs=24)]: Done  24 out of  24 | elapsed:    3.9s finished\n"
     ]
    },
    {
     "name": "stdout",
     "output_type": "stream",
     "text": [
      "number of announcements: 650976\n",
      "all announce count: 15285742\n",
      "all announce count after old removal: 14833766\n",
      "announces in common: 489568\n",
      "all announce count after adding new announce: 14995174\n",
      "total withdrawn routes: 12326\n",
      "number tracked routes withdrawn: 0\n",
      "no misconfigs, continuing.\n",
      "2015-01-06T04:45:00\n"
     ]
    },
    {
     "name": "stderr",
     "output_type": "stream",
     "text": [
      "[Parallel(n_jobs=24)]: Using backend MultiprocessingBackend with 24 concurrent workers.\n",
      "[Parallel(n_jobs=24)]: Done   2 out of  24 | elapsed:    0.4s remaining:    4.0s\n",
      "[Parallel(n_jobs=24)]: Done  24 out of  24 | elapsed:    7.0s finished\n"
     ]
    },
    {
     "name": "stdout",
     "output_type": "stream",
     "text": [
      "number of announcements: 1541864\n",
      "all announce count: 14995174\n",
      "all announce count after old removal: 14940935\n",
      "announces in common: 852323\n",
      "all announce count after adding new announce: 15630476\n",
      "total withdrawn routes: 16374\n",
      "number tracked routes withdrawn: 0\n",
      "no misconfigs, continuing.\n",
      "2015-01-06T05:00:00\n"
     ]
    },
    {
     "name": "stderr",
     "output_type": "stream",
     "text": [
      "[Parallel(n_jobs=24)]: Using backend MultiprocessingBackend with 24 concurrent workers.\n",
      "[Parallel(n_jobs=24)]: Done   2 out of  24 | elapsed:    0.4s remaining:    4.0s\n",
      "[Parallel(n_jobs=24)]: Done  24 out of  24 | elapsed:   12.8s finished\n"
     ]
    },
    {
     "name": "stdout",
     "output_type": "stream",
     "text": [
      "number of announcements: 1485848\n",
      "all announce count: 15630476\n",
      "all announce count after old removal: 15599751\n",
      "announces in common: 1153158\n",
      "all announce count after adding new announce: 15932441\n",
      "total withdrawn routes: 27779\n",
      "number tracked routes withdrawn: 0\n",
      "no misconfigs, continuing.\n",
      "2015-01-06T05:15:00\n"
     ]
    },
    {
     "name": "stderr",
     "output_type": "stream",
     "text": [
      "[Parallel(n_jobs=24)]: Using backend MultiprocessingBackend with 24 concurrent workers.\n",
      "[Parallel(n_jobs=24)]: Done   2 out of  24 | elapsed:    0.4s remaining:    4.0s\n",
      "[Parallel(n_jobs=24)]: Done  24 out of  24 | elapsed:   12.6s finished\n"
     ]
    },
    {
     "name": "stdout",
     "output_type": "stream",
     "text": [
      "number of announcements: 1270561\n",
      "all announce count: 15932441\n",
      "all announce count after old removal: 15892169\n",
      "announces in common: 1049546\n",
      "all announce count after adding new announce: 16113184\n",
      "total withdrawn routes: 28653\n",
      "number tracked routes withdrawn: 0\n",
      "no misconfigs, continuing.\n",
      "2015-01-06T05:30:00\n"
     ]
    },
    {
     "name": "stderr",
     "output_type": "stream",
     "text": [
      "[Parallel(n_jobs=24)]: Using backend MultiprocessingBackend with 24 concurrent workers.\n",
      "[Parallel(n_jobs=24)]: Done   2 out of  24 | elapsed:    0.4s remaining:    4.0s\n",
      "[Parallel(n_jobs=24)]: Done  24 out of  24 | elapsed:    5.1s finished\n"
     ]
    },
    {
     "name": "stdout",
     "output_type": "stream",
     "text": [
      "number of announcements: 795971\n",
      "all announce count: 16113184\n",
      "all announce count after old removal: 16075920\n",
      "announces in common: 719563\n",
      "all announce count after adding new announce: 16152328\n",
      "total withdrawn routes: 14551\n",
      "number tracked routes withdrawn: 0\n",
      "no misconfigs, continuing.\n",
      "2015-01-06T05:45:00\n"
     ]
    },
    {
     "name": "stderr",
     "output_type": "stream",
     "text": [
      "[Parallel(n_jobs=24)]: Using backend MultiprocessingBackend with 24 concurrent workers.\n",
      "[Parallel(n_jobs=24)]: Done   2 out of  24 | elapsed:    0.4s remaining:    4.0s\n",
      "[Parallel(n_jobs=24)]: Done  24 out of  24 | elapsed:    3.1s finished\n"
     ]
    },
    {
     "name": "stdout",
     "output_type": "stream",
     "text": [
      "number of announcements: 396706\n",
      "all announce count: 16152328\n",
      "all announce count after old removal: 16106752\n",
      "announces in common: 320970\n",
      "all announce count after adding new announce: 16182488\n",
      "total withdrawn routes: 25824\n",
      "number tracked routes withdrawn: 0\n",
      "no misconfigs, continuing.\n",
      "2015-01-06T06:00:00\n"
     ]
    },
    {
     "name": "stderr",
     "output_type": "stream",
     "text": [
      "[Parallel(n_jobs=24)]: Using backend MultiprocessingBackend with 24 concurrent workers.\n",
      "[Parallel(n_jobs=24)]: Done   2 out of  24 | elapsed:    0.4s remaining:    4.0s\n",
      "[Parallel(n_jobs=24)]: Done  24 out of  24 | elapsed:    2.9s finished\n"
     ]
    },
    {
     "name": "stdout",
     "output_type": "stream",
     "text": [
      "number of announcements: 399427\n",
      "all announce count: 16182488\n",
      "all announce count after old removal: 16152745\n",
      "announces in common: 326177\n",
      "all announce count after adding new announce: 16225995\n",
      "total withdrawn routes: 21195\n",
      "number tracked routes withdrawn: 0\n",
      "no misconfigs, continuing.\n",
      "2015-01-06T06:15:00\n"
     ]
    },
    {
     "name": "stderr",
     "output_type": "stream",
     "text": [
      "[Parallel(n_jobs=24)]: Using backend MultiprocessingBackend with 24 concurrent workers.\n",
      "[Parallel(n_jobs=24)]: Done   2 out of  24 | elapsed:    1.2s remaining:   13.5s\n",
      "[Parallel(n_jobs=24)]: Done  24 out of  24 | elapsed:    4.0s finished\n"
     ]
    },
    {
     "name": "stdout",
     "output_type": "stream",
     "text": [
      "number of announcements: 336954\n",
      "all announce count: 16225995\n",
      "all announce count after old removal: 16165597\n",
      "announces in common: 281578\n",
      "all announce count after adding new announce: 16220973\n",
      "total withdrawn routes: 5182\n",
      "number tracked routes withdrawn: 0\n",
      "no misconfigs, continuing.\n",
      "2015-01-06T06:30:00\n"
     ]
    },
    {
     "name": "stderr",
     "output_type": "stream",
     "text": [
      "[Parallel(n_jobs=24)]: Using backend MultiprocessingBackend with 24 concurrent workers.\n",
      "[Parallel(n_jobs=24)]: Done   2 out of  24 | elapsed:    0.8s remaining:    8.9s\n",
      "[Parallel(n_jobs=24)]: Done  24 out of  24 | elapsed:    3.8s finished\n"
     ]
    },
    {
     "name": "stdout",
     "output_type": "stream",
     "text": [
      "number of announcements: 357922\n",
      "all announce count: 16220973\n",
      "all announce count after old removal: 16071840\n",
      "announces in common: 289482\n",
      "all announce count after adding new announce: 16140280\n",
      "total withdrawn routes: 5845\n",
      "number tracked routes withdrawn: 0\n",
      "no misconfigs, continuing.\n",
      "2015-01-06T06:45:00\n"
     ]
    },
    {
     "name": "stderr",
     "output_type": "stream",
     "text": [
      "[Parallel(n_jobs=24)]: Using backend MultiprocessingBackend with 24 concurrent workers.\n",
      "[Parallel(n_jobs=24)]: Done   2 out of  24 | elapsed:    0.4s remaining:    4.0s\n",
      "[Parallel(n_jobs=24)]: Done  24 out of  24 | elapsed:    3.1s finished\n"
     ]
    },
    {
     "name": "stdout",
     "output_type": "stream",
     "text": [
      "number of announcements: 348910\n",
      "all announce count: 16140280\n",
      "all announce count after old removal: 16062729\n",
      "announces in common: 284709\n",
      "all announce count after adding new announce: 16126930\n",
      "total withdrawn routes: 5330\n",
      "number tracked routes withdrawn: 0\n",
      "no misconfigs, continuing.\n",
      "2015-01-06T07:00:00\n"
     ]
    },
    {
     "name": "stderr",
     "output_type": "stream",
     "text": [
      "[Parallel(n_jobs=24)]: Using backend MultiprocessingBackend with 24 concurrent workers.\n",
      "[Parallel(n_jobs=24)]: Done   2 out of  24 | elapsed:    0.4s remaining:    4.0s\n",
      "[Parallel(n_jobs=24)]: Done  24 out of  24 | elapsed:    2.7s finished\n"
     ]
    },
    {
     "name": "stdout",
     "output_type": "stream",
     "text": [
      "number of announcements: 307156\n",
      "all announce count: 16126930\n"
     ]
    }
   ],
   "source": [
    "start_min = datetime.strptime('2015-01-01', '%Y-%m-%d')\n",
    "end_min = datetime.strptime('2022-01-02', '%Y-%m-%d')\n",
    "dts = list([dt for dt in \n",
    "       datetime_range(datetime(2015, 1, 1, 0), datetime(2022, 1, 2, 0, 14), \n",
    "       timedelta(minutes=15))])\n",
    "\n",
    "def extract_path(elem):\n",
    "    prefix = elem['prefix']\n",
    "    as_path = elem['as_path']\n",
    "    return f'{prefix} {as_path}'\n",
    "    \n",
    "def process_bgp_update_data(data):\n",
    "    parser = bgpkit.Parser(url=data.url)\n",
    "    announce = []\n",
    "    withdraw = []\n",
    "    while True:\n",
    "        elem = parser.parse_next()\n",
    "        if not elem:\n",
    "            break\n",
    "        \n",
    "        elem_type = elem['elem_type']\n",
    "        if elem_type == 'A':\n",
    "            announce.append(extract_path(elem))\n",
    "        else:\n",
    "            withdraw.append(extract_path(elem))\n",
    "    \n",
    "    return (announce, withdraw)\n",
    "\n",
    "def remove_old(path_dict, current_date):\n",
    "    for path, date in path_dict.items():\n",
    "        # only retain items that are less than 24h old\n",
    "        delta = abs( (date - current_date).total_seconds() )\n",
    "        if delta < 86400:\n",
    "            yield (path, date)\n",
    "            \n",
    "def find_subnets(path, date, ranges):\n",
    "    try:\n",
    "        prefix = ipaddress.IPv4Network(path.split(' ')[0])\n",
    "    except:\n",
    "        return []\n",
    "    \n",
    "    result = []\n",
    "    for r in ranges:\n",
    "        if prefix.subnet_of(r):\n",
    "            result.append( (r, date) )\n",
    "    return result\n",
    "\n",
    "broker = bgpkit.Broker()\n",
    "\n",
    "all_announced = None\n",
    "misconfig_dict = {}\n",
    "if not os.path.isfile('bgp_misconfig_last_index'):\n",
    "    with open('bgp_misconfig_last_index', 'w') as f:\n",
    "        f.write('0')\n",
    "    with open('bgp_misconfigs_cache.json', 'w') as f:\n",
    "        f.write('{}')\n",
    "    last_index = 0\n",
    "else:\n",
    "    with open('bgp_misconfig_last_index', 'r') as f:\n",
    "        last_index = int(f.read())\n",
    "    with open('bgp_misconfigs_cache.json', 'r') as f:\n",
    "        misconfig_dict = json.load(f)\n",
    "        \n",
    "for i in range(len(dts)):\n",
    "    if i < last_index:\n",
    "        continue\n",
    "        \n",
    "    date = dts[i]\n",
    "    d_str = date.strftime('%Y-%m-%dT%H:%M:00')\n",
    "    print(d_str)\n",
    "    \n",
    "    date_str = date.strftime('%Y-%m-%dT%H:%M:00')\n",
    "    date_plus1_str = date.strftime('%Y-%m-%dT%H:%M:01')\n",
    "\n",
    "    items = broker.query(ts_start=date_str, ts_end=date_plus1_str, data_type='update')\n",
    "    items = [x for x in items if x.collector_id.startswith('route-views')]\n",
    "    res_list = Parallel(n_jobs=min(40, len(items)), verbose=1, backend='multiprocessing')(\n",
    "        delayed(process_bgp_update_data)(item) \n",
    "        for item in items\n",
    "    )\n",
    "    (announce, withdraw) = (\n",
    "        [ item for tup in res_list for item in tup[0] ],\n",
    "        [ item for tup in res_list for item in tup[1] ]\n",
    "    )\n",
    "    announce = { path: date for path in announce }\n",
    "    withdraw = { path: date for path in withdraw }\n",
    "    \n",
    "    print(f'number of announcements: {len(announce)}')\n",
    "    \n",
    "    if not all_announced:\n",
    "        all_announced = announce\n",
    "        continue\n",
    "        \n",
    "    print(f'all announce count: {len(all_announced)}')\n",
    "        \n",
    "    # first, remove all 24h+ paths, since these are not misconfigs according to our definition\n",
    "    all_announced = dict( remove_old(all_announced, date) )\n",
    "    print(f'all announce count after old removal: {len(all_announced)}')\n",
    "    \n",
    "    print(f'announces in common: {len(announce.keys() & all_announced.keys())}')\n",
    "    \n",
    "    # then, add the newly announced paths to the full list of tracked announced paths\n",
    "    all_announced.update(announce)\n",
    "    print(f'all announce count after adding new announce: {len(all_announced)}')\n",
    "    \n",
    "    # all remaining paths that are included in the withdraws are misconfigs\n",
    "    # misconfig_removals = list of paths\n",
    "    print(f'total withdrawn routes: {len(withdraw)}')\n",
    "    misconfig_removals = list(all_announced.keys() & withdraw.keys())\n",
    "    print(f'number tracked routes withdrawn: {len(misconfig_removals)}')\n",
    "    \n",
    "    if len(misconfig_removals) > 0:\n",
    "        # filter out the ranges not relevant to us\n",
    "        misconfig_removals = Parallel(n_jobs=40, verbose=1, backend='multiprocessing')(\n",
    "            delayed(find_subnets)(path, all_announced[path], df[df['date'] == all_announced[path].strftime('%Y-%m-%d')]['Ranges'].tolist()) \n",
    "            for path in misconfig_removals\n",
    "        )\n",
    "        # misconfig_removals = dict of range->date pairs\n",
    "        misconfig_removals = dict([ item for sublist in misconfig_removals for item in sublist ])\n",
    "        print(f'number of relevant misconfigs: {len(misconfig_removals)}')\n",
    "        print(misconfig_removals)\n",
    "        \n",
    "        # for each of the removed path + date, record the misconfig in the correct date\n",
    "        for prefix, path_date in misconfig_removals.items():\n",
    "            d = path_date.strftime('%Y-%m-%d')\n",
    "            if d in misconfig_dict:\n",
    "                misconfig_dict[d].append(prefix)\n",
    "            else:\n",
    "                misconfig_dict[d] = [prefix]\n",
    "                \n",
    "        with open('bgp_misconfigs_cache.json', 'w') as f:\n",
    "            json.dump(misconfig_dict, f)\n",
    "            \n",
    "    else:\n",
    "        print('no misconfigs, continuing.')\n",
    "    \n",
    "    \n",
    "    with open('bgp_misconfig_last_index', 'w') as f:\n",
    "        f.write(str(i))\n"
   ]
  },
  {
   "cell_type": "code",
   "execution_count": 22,
   "id": "1f872c79",
   "metadata": {},
   "outputs": [
    {
     "data": {
      "text/html": [
       "<div>\n",
       "<style scoped>\n",
       "    .dataframe tbody tr th:only-of-type {\n",
       "        vertical-align: middle;\n",
       "    }\n",
       "\n",
       "    .dataframe tbody tr th {\n",
       "        vertical-align: top;\n",
       "    }\n",
       "\n",
       "    .dataframe thead th {\n",
       "        text-align: right;\n",
       "    }\n",
       "</style>\n",
       "<table border=\"1\" class=\"dataframe\">\n",
       "  <thead>\n",
       "    <tr style=\"text-align: right;\">\n",
       "      <th></th>\n",
       "      <th>date</th>\n",
       "      <th>0</th>\n",
       "      <th>1</th>\n",
       "    </tr>\n",
       "  </thead>\n",
       "  <tbody>\n",
       "    <tr>\n",
       "      <th>0</th>\n",
       "      <td>2015-01-01</td>\n",
       "      <td>77.61.161.80/29</td>\n",
       "      <td>77.61.161.0/24</td>\n",
       "    </tr>\n",
       "  </tbody>\n",
       "</table>\n",
       "</div>"
      ],
      "text/plain": [
       "         date                0               1\n",
       "0  2015-01-01  77.61.161.80/29  77.61.161.0/24"
      ]
     },
     "execution_count": 22,
     "metadata": {},
     "output_type": "execute_result"
    }
   ],
   "source": [
    "misconfig_dict"
   ]
  },
  {
   "cell_type": "code",
   "execution_count": null,
   "id": "6b8ed5c1",
   "metadata": {},
   "outputs": [],
   "source": [
    "misconfigs_dict"
   ]
  },
  {
   "cell_type": "code",
   "execution_count": null,
   "id": "504e6af2",
   "metadata": {},
   "outputs": [],
   "source": [
    "misconfig_df = (pd.DataFrame.from_dict(misconfigs_dict, orient='index')\n",
    "                .reset_index(names='date')\n",
    "                .rename(columns={0: 'bgp_path_misconfigs'}))\n",
    "misconfig_df"
   ]
  },
  {
   "cell_type": "code",
   "execution_count": null,
   "id": "d48c23a1",
   "metadata": {},
   "outputs": [],
   "source": [
    "misconfig_df.to_csv('csv/features/bgp_misconfig_features.csv', index=False)"
   ]
  }
 ],
 "metadata": {
  "kernelspec": {
   "display_name": "Python 3 (ipykernel)",
   "language": "python",
   "name": "python3"
  },
  "language_info": {
   "codemirror_mode": {
    "name": "ipython",
    "version": 3
   },
   "file_extension": ".py",
   "mimetype": "text/x-python",
   "name": "python",
   "nbconvert_exporter": "python",
   "pygments_lexer": "ipython3",
   "version": "3.7.7"
  }
 },
 "nbformat": 4,
 "nbformat_minor": 5
}
